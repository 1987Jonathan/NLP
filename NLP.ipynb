{
  "nbformat": 4,
  "nbformat_minor": 0,
  "metadata": {
    "colab": {
      "provenance": [],
      "include_colab_link": true
    },
    "kernelspec": {
      "name": "python3",
      "display_name": "Python 3"
    },
    "language_info": {
      "name": "python"
    }
  },
  "cells": [
    {
      "cell_type": "markdown",
      "metadata": {
        "id": "view-in-github",
        "colab_type": "text"
      },
      "source": [
        "<a href=\"https://colab.research.google.com/github/1987Jonathan/NLP/blob/main/NLP.ipynb\" target=\"_parent\"><img src=\"https://colab.research.google.com/assets/colab-badge.svg\" alt=\"Open In Colab\"/></a>"
      ]
    },
    {
      "cell_type": "code",
      "execution_count": 40,
      "metadata": {
        "colab": {
          "base_uri": "https://localhost:8080/"
        },
        "id": "2ySyHoeY5z0p",
        "outputId": "5f97d85c-9e11-4081-e17c-00666abb5373"
      },
      "outputs": [
        {
          "output_type": "stream",
          "name": "stdout",
          "text": [
            "--2024-07-19 03:52:28--  http://setup.johnsnowlabs.com/colab.sh\n",
            "Resolving setup.johnsnowlabs.com (setup.johnsnowlabs.com)... 3.86.22.73\n",
            "Connecting to setup.johnsnowlabs.com (setup.johnsnowlabs.com)|3.86.22.73|:80... connected.\n",
            "HTTP request sent, awaiting response... 302 Moved Temporarily\n",
            "Location: https://raw.githubusercontent.com/JohnSnowLabs/spark-nlp/master/scripts/colab_setup.sh [following]\n",
            "--2024-07-19 03:52:28--  https://raw.githubusercontent.com/JohnSnowLabs/spark-nlp/master/scripts/colab_setup.sh\n",
            "Resolving raw.githubusercontent.com (raw.githubusercontent.com)... 185.199.109.133, 185.199.110.133, 185.199.111.133, ...\n",
            "Connecting to raw.githubusercontent.com (raw.githubusercontent.com)|185.199.109.133|:443... connected.\n",
            "HTTP request sent, awaiting response... 200 OK\n",
            "Length: 1191 (1.2K) [text/plain]\n",
            "Saving to: ‘STDOUT’\n",
            "\n",
            "-                   100%[===================>]   1.16K  --.-KB/s    in 0s      \n",
            "\n",
            "2024-07-19 03:52:29 (47.2 MB/s) - written to stdout [1191/1191]\n",
            "\n",
            "Installing PySpark 3.2.3 and Spark NLP 5.4.1\n",
            "setup Colab for PySpark 3.2.3 and Spark NLP 5.4.1\n"
          ]
        }
      ],
      "source": [
        "!wget http://setup.johnsnowlabs.com/colab.sh -O - | bash"
      ]
    },
    {
      "cell_type": "markdown",
      "source": [
        "Installing SparkNLP"
      ],
      "metadata": {
        "id": "xOWRhX9Q6B9X"
      }
    },
    {
      "cell_type": "code",
      "source": [
        "import sparknlp\n",
        "spark = sparknlp.start()\n",
        "\n",
        "from sparknlp.pretrained import PretrainedPipeline\n"
      ],
      "metadata": {
        "id": "9dxYo60w5_Rb",
        "colab": {
          "base_uri": "https://localhost:8080/"
        },
        "outputId": "af46b113-c442-478c-8fc9-aa1ccfe1fcc2"
      },
      "execution_count": 41,
      "outputs": [
        {
          "output_type": "stream",
          "name": "stdout",
          "text": [
            "Warning::Spark Session already created, some configs may not take.\n"
          ]
        }
      ]
    },
    {
      "cell_type": "code",
      "source": [
        "pipeline = PretrainedPipeline(\"explain_document_ml\")"
      ],
      "metadata": {
        "colab": {
          "base_uri": "https://localhost:8080/"
        },
        "id": "WX3Def-t-CGX",
        "outputId": "64814685-c6c9-4c5c-c203-4ea566e6db5f"
      },
      "execution_count": 42,
      "outputs": [
        {
          "output_type": "stream",
          "name": "stdout",
          "text": [
            "explain_document_ml download started this may take some time.\n",
            "Approx size to download 9 MB\n",
            "[OK!]\n"
          ]
        }
      ]
    },
    {
      "cell_type": "code",
      "source": [
        "hls = [\n",
        "    # Subject pronouns\n",
        "    \"She ran\",\n",
        "    \"He ran\",\n",
        "    \"I ran\",\n",
        "    \"We ran\",\n",
        "    \"They ran\",\n",
        "    \"You ran\",\n",
        "    \"It ran\",\n",
        "\n",
        "    # Object pronouns\n",
        "    \"I saw her\",\n",
        "    \"I saw him\",\n",
        "    \"I saw them\",\n",
        "    \"I saw us\",\n",
        "    \"I saw you\",\n",
        "    \"I saw it\",\n",
        "\n",
        "    # Possessive pronouns (used as objects)\n",
        "    \"I know her name\",\n",
        "    \"I know his name\",\n",
        "    \"I know their name\",\n",
        "    \"I know our name\",\n",
        "    \"I know your name\",\n",
        "    \"I know its name\",\n",
        "\n",
        "    # Possessive pronouns (used as subjects)\n",
        "    \"That is hers\",\n",
        "    \"That is his\",\n",
        "    \"That is theirs\",\n",
        "    \"That is ours\",\n",
        "    \"That is yours\",\n",
        "    \"That is its\",\n",
        "\n",
        "    # Reflexive pronouns\n",
        "    \"She saw herself\",\n",
        "    \"He saw himself\",\n",
        "    \"I saw myself\",\n",
        "    \"We saw ourselves\",\n",
        "    \"They saw themselves\",\n",
        "    \"You saw yourself\",\n",
        "    \"It saw itself\"\n",
        "]\n"
      ],
      "metadata": {
        "id": "uDC93YLC-CQV"
      },
      "execution_count": 43,
      "outputs": []
    },
    {
      "cell_type": "code",
      "source": [
        "dfs = [pipeline.annotate(hl) for hl in hls]"
      ],
      "metadata": {
        "id": "iPMDmrar-S6C"
      },
      "execution_count": null,
      "outputs": []
    },
    {
      "cell_type": "code",
      "source": [
        "dfs"
      ],
      "metadata": {
        "collapsed": true,
        "id": "-RBlgQV9-S_h"
      },
      "execution_count": null,
      "outputs": []
    },
    {
      "cell_type": "code",
      "source": [
        "tok_tag = [(df['token'],df['pos']) for df in dfs]"
      ],
      "metadata": {
        "id": "ali61V58-TCl"
      },
      "execution_count": null,
      "outputs": []
    },
    {
      "cell_type": "code",
      "source": [
        "tok_tag"
      ],
      "metadata": {
        "collapsed": true,
        "id": "ZNJPfHY8-TFf"
      },
      "execution_count": null,
      "outputs": []
    },
    {
      "cell_type": "code",
      "source": [
        "zips = [list(zip(tt[0], tt[1])) for tt in tok_tag]"
      ],
      "metadata": {
        "id": "7YP4COs7-TIJ"
      },
      "execution_count": null,
      "outputs": []
    },
    {
      "cell_type": "code",
      "source": [
        "zips"
      ],
      "metadata": {
        "collapsed": true,
        "id": "RMVhLbF--TKv"
      },
      "execution_count": null,
      "outputs": []
    },
    {
      "cell_type": "code",
      "source": [
        "tagged = [\" \".join([\"\".join(word) for word in hl]) for hl in zips]"
      ],
      "metadata": {
        "id": "au6F0pax-TNK"
      },
      "execution_count": null,
      "outputs": []
    },
    {
      "cell_type": "code",
      "source": [
        "tagged"
      ],
      "metadata": {
        "collapsed": true,
        "id": "yQ6H_r41-TQC"
      },
      "execution_count": null,
      "outputs": []
    },
    {
      "cell_type": "code",
      "source": [
        "!curl \"https://www.gutenberg.org/cache/epub/2701/pg2701.txt\" -o mobydick.txt"
      ],
      "metadata": {
        "id": "A1r2Zowj-fn0"
      },
      "execution_count": null,
      "outputs": []
    },
    {
      "cell_type": "code",
      "source": [
        "mobydick = open('mobydick.txt').read()"
      ],
      "metadata": {
        "id": "9iknDpCz-fqO"
      },
      "execution_count": null,
      "outputs": []
    },
    {
      "cell_type": "code",
      "source": [
        "print(mobydick[:1000])"
      ],
      "metadata": {
        "collapsed": true,
        "id": "W5tnBx_a-fsb"
      },
      "execution_count": null,
      "outputs": []
    },
    {
      "cell_type": "code",
      "source": [
        "pipeline.annotate(mobydick[:100])['pos']"
      ],
      "metadata": {
        "collapsed": true,
        "id": "eCzIAM61-fux"
      },
      "execution_count": null,
      "outputs": []
    },
    {
      "cell_type": "code",
      "source": [
        "from pyspark.sql import SparkSession\n",
        "spark = SparkSession.builder.appName(\"demo\").getOrCreate()"
      ],
      "metadata": {
        "id": "VO8a5HB3-fw3"
      },
      "execution_count": null,
      "outputs": []
    },
    {
      "cell_type": "code",
      "source": [
        "mobydick = spark.sparkContext.textFile('mobydick.txt')\n",
        "\n",
        "counts = (\n",
        "    mobydick.flatMap(lambda line: line.split(\" \"))\n",
        "    .map(lambda word: (word, 1))\n",
        "    .reduceByKey(lambda a, b: a + b)\n",
        ")"
      ],
      "metadata": {
        "id": "e2CJ9usZ-fzh"
      },
      "execution_count": null,
      "outputs": []
    },
    {
      "cell_type": "code",
      "source": [
        "counts.collect()[:10]"
      ],
      "metadata": {
        "collapsed": true,
        "id": "s_SaSrVZ-f17"
      },
      "execution_count": null,
      "outputs": []
    },
    {
      "cell_type": "code",
      "source": [
        "!curl \"https://www.gutenberg.org/cache/epub/37106/pg37106.txt\" -o littlewomen.txt"
      ],
      "metadata": {
        "collapsed": true,
        "id": "TxXm5e8P-f4P"
      },
      "execution_count": null,
      "outputs": []
    },
    {
      "cell_type": "code",
      "source": [
        "littlewomen = open('littlewomen.txt').read()"
      ],
      "metadata": {
        "id": "gO7LEU6a-f6W"
      },
      "execution_count": null,
      "outputs": []
    },
    {
      "cell_type": "code",
      "source": [
        "print(littlewomen[:1000])"
      ],
      "metadata": {
        "collapsed": true,
        "id": "h2UOQocF-f8q"
      },
      "execution_count": null,
      "outputs": []
    },
    {
      "cell_type": "code",
      "source": [
        "pipeline.annotate(littlewomen[:100])['pos']"
      ],
      "metadata": {
        "collapsed": true,
        "id": "6ml3PtCH-f-o"
      },
      "execution_count": null,
      "outputs": []
    },
    {
      "cell_type": "code",
      "source": [
        "from pyspark.sql import SparkSession\n",
        "spark = SparkSession.builder.appName(\"demo\").getOrCreate()"
      ],
      "metadata": {
        "id": "KqR_BMcIEKov"
      },
      "execution_count": null,
      "outputs": []
    },
    {
      "cell_type": "code",
      "source": [
        "littlewomen = spark.sparkContext.textFile('littlewomen.txt')\n",
        "\n",
        "counts_lw = (\n",
        "    littlewomen.flatMap(lambda line: line.split(\" \"))\n",
        "    .map(lambda word: (word, 1))\n",
        "    .reduceByKey(lambda a, b: a + b)\n",
        ")"
      ],
      "metadata": {
        "id": "5df9vFfQEKrI"
      },
      "execution_count": null,
      "outputs": []
    },
    {
      "cell_type": "code",
      "source": [
        "counts_lw.collect()[:10]"
      ],
      "metadata": {
        "id": "Rltl4jDiEKtc"
      },
      "execution_count": null,
      "outputs": []
    },
    {
      "cell_type": "code",
      "source": [],
      "metadata": {
        "id": "dDOpN_f-EKv-"
      },
      "execution_count": null,
      "outputs": []
    },
    {
      "cell_type": "code",
      "source": [],
      "metadata": {
        "id": "jnNxZTtPEKyM"
      },
      "execution_count": null,
      "outputs": []
    },
    {
      "cell_type": "code",
      "source": [],
      "metadata": {
        "id": "4nLTWe3TEK0u"
      },
      "execution_count": null,
      "outputs": []
    },
    {
      "cell_type": "code",
      "source": [],
      "metadata": {
        "id": "wQcKsLqLEK3O"
      },
      "execution_count": null,
      "outputs": []
    }
  ]
}