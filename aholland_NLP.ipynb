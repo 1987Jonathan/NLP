{
  "nbformat": 4,
  "nbformat_minor": 0,
  "metadata": {
    "colab": {
      "provenance": [],
      "collapsed_sections": [
        "NHR3ILkDmZLK",
        "fRFXcf2ACURI",
        "0BHJITTzD4r7",
        "_tq1ZQ62ErBH",
        "IwwuVVrsGLW9",
        "GIu7XOx4l3cx",
        "yHboO7dTsDsV",
        "G8Q9Wv_MtdcE",
        "KB0xSQpWzKGg"
      ]
    },
    "kernelspec": {
      "name": "python3",
      "display_name": "Python 3"
    },
    "language_info": {
      "name": "python"
    }
  },
  "cells": [
    {
      "cell_type": "markdown",
      "source": [
        "# Pronoun Wars: Gendered Language Showdown in Mid-1800s Literature\n",
        "\n",
        "Authors: Alaina Holland and Jonathan McGechie\n",
        "\n",
        "*July 25, 2024*\n",
        "\n",
        "PRESENTATION LINK: https://docs.google.com/presentation/d/1mnwp6gMs2t4wr-hH0glf7vDPN0Pls8ho/edit?usp=sharing&ouid=101740956676251134360&rtpof=true&sd=true\n"
      ],
      "metadata": {
        "id": "Z6WNd1bKmV1E"
      }
    },
    {
      "cell_type": "markdown",
      "source": [
        "## Introduction\n",
        "\n"
      ],
      "metadata": {
        "id": "NHR3ILkDmZLK"
      }
    },
    {
      "cell_type": "markdown",
      "source": [
        "This study aims to determine if there is a statistically significant difference in the frequencies of subject and object pronouns for feminine and masculine personal pronouns in historical texts. Additionally, we explore whether the gender of the authors influences these results, shedding light on gender bias and representation in mid-19th century literature.\n",
        "\n",
        "Understanding gendered language in literature is crucial as it reflects and reinforces societal norms and biases. By examining texts from the mid-1800s, we gain insight into the historical context of gender representation, which can inform contemporary discussions about gender bias in media and literature."
      ],
      "metadata": {
        "id": "mnawix5yFYB6"
      }
    },
    {
      "cell_type": "markdown",
      "source": [
        "#### Grammatical Gender\n",
        "\n",
        "- **Feminine:** Refers to nouns and pronouns typically associated with female entities (e.g., she, her, woman, girl).\n",
        "- **Masculine:** Refers to nouns and pronouns typically associated with male entities (e.g., he, him, man, boy).\n",
        "\n",
        "#### Syntactic Roles\n",
        "\n",
        "- **Subject:** The noun or pronoun performing the action in a sentence (e.g., She threw the ball).\n",
        "- **Object:** The noun or pronoun receiving the action in a sentence (e.g., He gave the book to her).\n",
        "\n",
        "#### Putting it Together\n",
        "\n",
        "- **Feminine Subject:** A feminine pronoun used as the subject of a sentence or clause (e.g., She went to the store).\n",
        "- **Feminine Object:** A feminine pronoun used as the object of a verb or preposition (e.g., Give the flower to her).\n",
        "- **Masculine Subject:** A masculine pronoun used as the subject of a sentence or clause (e.g., He is playing soccer).\n",
        "- **Masculine Object:** A masculine pronoun used as the object of a verb or preposition (e.g., I saw him at the park).\n",
        "\n",
        "**Important Note:**\n",
        "*Grammatical gender doesn't always align with biological sex or gender identity. Many languages have grammatical genders that apply to inanimate objects or concepts.*"
      ],
      "metadata": {
        "id": "Ok9yut07AlRg"
      }
    },
    {
      "cell_type": "markdown",
      "source": [
        "## Methodology"
      ],
      "metadata": {
        "id": "fRFXcf2ACURI"
      }
    },
    {
      "cell_type": "markdown",
      "source": [
        "### Datasets\n",
        "\n",
        "1. [**Moby-Dick**](https://www.gutenberg.org/ebooks/2701) (1851)  by Herman Melville (male-identified author)\n",
        "2. [**Little Women**](https://www.gutenberg.org/ebooks/37106) (1868-1869) by Louisa May Alcott (female-identified author)\n",
        "3. [**Little Men**](https://www.gutenberg.org/ebooks/2788) (1871) by Louisa May Alcott (female-identified author)\n",
        "\n",
        "### Technologies\n",
        "\n",
        "- **SparkNLP**: An open-source library providing advanced natural language processing capabilities.\n",
        "- **PySpark**: A Python API for Apache Spark, enabling large-scale data processing.\n",
        "\n",
        "### Data Processing\n",
        "\n",
        "1. **Text Preprocessing**: Clean and tokenize the text to extract individual words.\n",
        "2. **Part-of-Speech Tagging**: Use SparkNLP to annotate the text, identifying personal pronouns and their grammatical roles.\n",
        "3. **Pronoun Frequency Analysis**: Calculate the frequencies of subject (e.g., he, she) and object (e.g., him, her) pronouns.\n",
        "4. **Statistical Testing**: Perform chi-square tests to determine if differences in pronoun frequencies are statistically significant.\n",
        "\n"
      ],
      "metadata": {
        "id": "tNepJEl7BZzg"
      }
    },
    {
      "cell_type": "markdown",
      "source": [
        "### Data Sources and Integrity\n",
        "\n",
        "The texts used in this study were sourced from Project Gutenberg, a well-established repository of free eBooks. Project Gutenberg provides high-quality, digitized versions of public domain texts, ensuring that the works of Herman Melville and Louisa May Alcott are accurately represented. The following steps were taken to ensure data integrity:\n",
        "1. **Text Verification**: Each text was verified to ensure it matched the original publication as closely as possible, minimizing errors and inconsistencies.\n",
        "2. **Cleaning and Standardization**: Texts were cleaned to remove any extraneous characters, metadata, and formatting issues that could affect the analysis.\n",
        "3. **Tokenization**: Texts were tokenized into individual words and sentences to facilitate accurate part-of-speech tagging and pronoun identification.\n",
        "4. **Quality Control**: Multiple checks were performed to ensure that the processed texts maintained their integrity and that no relevant content was inadvertently removed.\n"
      ],
      "metadata": {
        "id": "zTDpKsL5DL6k"
      }
    },
    {
      "cell_type": "markdown",
      "source": [
        "## Hypothesis\n",
        "\n"
      ],
      "metadata": {
        "id": "GiOyVlY_AqcB"
      }
    },
    {
      "cell_type": "markdown",
      "source": [
        "**Hypothesis 1: Author Gender Influences Pronoun Usage**\n",
        "\n",
        "We hypothesize that the gender of the authors significantly influences pronoun usage in the texts \"Moby-Dick\" and \"Little Women,\" both published in the mid-1850s. We expect \"Little Women\" to exhibit a higher frequency of feminine pronouns, while \"Moby-Dick\" will have a higher frequency of masculine pronouns. The mid-1850s is a relevant period because it provides a historical context where gender roles and biases were more pronounced in literature while the \"gender\" representation in writing was still roughly balanced (40% women to 60% men).\n",
        "\n",
        "* **Null Hypothesis (H0):** There is no significant difference in the frequency of masculine and feminine pronouns between the texts.\n",
        "* **Alternative Hypothesis (H1):** There is a significant difference in the frequency of masculine and feminine pronouns between the texts.\n",
        "\n",
        "**Hypothesis 2: Gender Narration Perspective Impacts Pronoun Usage**\n",
        "\n",
        "Furthermore, by comparing \"Little Women\" and \"Little Men,\" we hypothesize that pronoun usage will statistically vary. We presume that \"Little Women,\" written from a female perspective, will differ significantly from \"Little Men,\" which is not from a female perspective.\n",
        "\n",
        "* **Null Hypothesis (H0):** There is no significant difference in feminine pronoun frequency between \"Little Women\" and \"Little Men\".\n",
        "* **Alternative Hypothesis (H1):** There is a significant difference in feminine pronoun frequency between \"Little Women\" and \"Little Men\"."
      ],
      "metadata": {
        "id": "oOls9DjiFdnz"
      }
    },
    {
      "cell_type": "markdown",
      "source": [
        "\n",
        "#### Higher Frequency of Masculine Pronouns in \"Moby-Dick\"\n",
        "\n",
        "1. **Implication:**  This could indicate a male-centric narrative focus, possibly reflecting the author's gender and societal norms of the time, which often emphasized male experiences and perspectives.\n",
        "\n",
        "2. **Discussion:**  This outcome would align with the hypothesis that Herman Melville, as a male author, might have used more masculine pronouns, mirroring the predominant gender roles and biases of the mid-1800s.\n",
        "\n",
        "\n",
        "\n",
        "\n",
        "\n",
        "#### Higher Frequency of Feminine Pronouns in \"Little Women\"\n",
        "\n",
        "1. **Implication:**  This could suggest a female-centric narrative, emphasizing female experiences and perspectives. It may reflect Louisa May Alcott's intention to highlight women's roles and lives during the period.\n",
        "\n",
        "2. **Discussion:**  This would support the hypothesis that Louisa May Alcott, as a female author, focused more on feminine pronouns, offering a counter-narrative to the male-dominated literature of the time.\n",
        "\n",
        "#### Significant Difference in Pronoun Usage Between \"Little Women\" and \"Little Men\"\n",
        "\n",
        "1. **Implication:**  A notable difference in pronoun usage between these two texts by the same author could indicate deliberate stylistic and thematic choices to reflect the gendered focus of each narrative.\n",
        "\n",
        "2. **Discussion:**  This outcome would support the idea that even within the works of a single author, the gender perspective can significantly influence language use.\n",
        "\n",
        "#### No Significant Difference in Pronoun Usage Across Texts\n",
        "\n",
        "1. **Implication:**  This could suggest that the gender of the author does not significantly impact pronoun usage, or that the themes and contexts of the narratives override gendered language tendencies.\n",
        "\n",
        "2. **Discussion:**  This outcome would challenge the hypothesis, suggesting that factors other than the author's gender might play a more crucial role in determining pronoun usage in literature.\n",
        "\n",
        "#### Higher Frequency of Masculine Pronouns in Both Texts\n",
        "\n",
        "1. **Implication:**  This might reflect broader societal norms and literary conventions of the time, where male experiences were more commonly represented, regardless of the author's gender.\n",
        "\n",
        "2. **Discussion:**  This outcome would indicate that mid-19th century literature, in general, favored masculine pronouns, perhaps due to prevailing gender biases and expectations in society.\n",
        "\n",
        "#### Higher Frequency of Feminine Pronouns in Both Texts\n",
        "\n",
        "1. **Implication:**  \n",
        "This could be indicative of an exceptional focus on female experiences and perspectives, possibly challenging the typical gender biases of the time.\n",
        "\n",
        "2. **Discussion:**  \n",
        "This outcome would be unexpected and would prompt further investigation into the specific themes and contexts of the texts that led to this result.\n",
        "\n"
      ],
      "metadata": {
        "id": "-bSP0vsKGRus"
      }
    },
    {
      "cell_type": "markdown",
      "source": [
        "## Statistical Analysis"
      ],
      "metadata": {
        "id": "k9Uml6goD71y"
      }
    },
    {
      "cell_type": "markdown",
      "source": [
        "\n",
        "\n",
        "### Justification for Statistical Methods\n",
        "\n",
        "\n"
      ],
      "metadata": {
        "id": "0BHJITTzD4r7"
      }
    },
    {
      "cell_type": "markdown",
      "source": [
        "#### Why Chi-square?\n",
        "\n",
        "We use chi-square tests to determine if the observed differences in pronoun frequencies are statistically significant. The chi-square test is appropriate for this analysis because it evaluates whether the distribution of categorical variables differs from what is expected\n",
        "\n",
        "#### Example of Chi-Square Evaluation Criteria for Hypothesis 1\n",
        "\n",
        "| Step                         | Description                                                                                                             |\n",
        "|------------------------------|-------------------------------------------------------------------------------------------------------------------------|\n",
        "| 1. Define Hypotheses         | **Null Hypothesis (H0):** No significant difference in pronoun frequency between texts.<br> **Alternative Hypothesis (H1):** Significant difference in pronoun frequency between texts. |\n",
        "| 2. Collect Data              | Count occurrences of masculine and feminine pronouns in the texts.                                                      |\n",
        "| 3. Calculate Expected Frequencies (E) | Calculate expected frequency for each cell: <br> \\[ E = \\frac{(\\text{Row Total} \\times \\text{Column Total})}{\\text{Grand Total}} \\] |\n",
        "| 4. Calculate Chi-Square Statistic | Use the formula: <br> \\[ \\chi^2 = \\sum \\frac{(O - E)^2}{E} \\] |\n",
        "| 5. Determine Degrees of Freedom (df) | \\[ df = (rows - 1) \\times (columns - 1) \\]                                                                           |\n",
        "| 6. Compare to Chi-Square Distribution | Find critical value for \\( df = 1 \\) at significance level \\( \\alpha = 0.05 \\).                                      |\n",
        "| 7. Make a Decision            | If \\(\\chi^2 \\) > critical value, reject the null hypothesis.                                                          |\n",
        "| 8. Interpretation             | Interpret the result in context.                                                                                       |\n",
        "\n",
        "\n",
        "#### Chi-Square Evaluation Criteria for Hypothesis 2\n",
        "\n",
        "| Step                         | Description                                                                                                             |\n",
        "|------------------------------|-------------------------------------------------------------------------------------------------------------------------|\n",
        "| 1. Define Hypotheses         | **Null Hypothesis (H0):** There is no significant difference in pronoun frequency between \"Little Women\" and \"Little Men\".<br> **Alternative Hypothesis (H1):** There is a significant difference in pronoun frequency between \"Little Women\" and \"Little Men\". |\n",
        "| 2. Collect Data              | Count occurrences of masculine and feminine pronouns in \"Little Women\" and \"Little Men\".                                                      |\n",
        "| 3. Calculate Expected Frequencies (E) | Calculate expected frequency for each cell: <br> \\[ E = \\frac{(\\text{Row Total} \\times \\text{Column Total})}{\\text{Grand Total}} \\] |\n",
        "| 4. Calculate Chi-Square Statistic | Use the formula: <br> \\[ \\chi^2 = \\sum \\frac{(O - E)^2}{E} \\] |\n",
        "| 5. Determine Degrees of Freedom (df) | \\[ df = (rows - 1) \\times (columns - 1) \\]                                                                           |\n",
        "| 6. Compare to Chi-Square Distribution | Find critical value for \\( df = 1 \\) at significance level \\( \\alpha = 0.05 \\).                                      |\n",
        "| 7. Make a Decision            | If \\(\\chi^2 \\) > critical value, reject the null hypothesis.                                                          |\n",
        "| 8. Interpretation             | Interpret the result in context.                                                                                       |\n"
      ],
      "metadata": {
        "id": "fwKJKM8NFohO"
      }
    },
    {
      "cell_type": "markdown",
      "source": [
        "## Implications and Expected Impact"
      ],
      "metadata": {
        "id": "_tq1ZQ62ErBH"
      }
    },
    {
      "cell_type": "markdown",
      "source": [
        "### Implications Potential Pronoun Frequences"
      ],
      "metadata": {
        "id": "d1HgQ0sxGbMp"
      }
    },
    {
      "cell_type": "markdown",
      "source": [
        "### Expected Impact"
      ],
      "metadata": {
        "id": "IwwuVVrsGLW9"
      }
    },
    {
      "cell_type": "markdown",
      "source": [
        "\n",
        "\n",
        "**Confirmation of Gender Bias:**  \n",
        "If the study finds significant differences in pronoun usage aligned with the author's gender, it would confirm that gender bias and representation were prevalent in mid-19th century literature. This could lead to a deeper understanding of how historical gender roles influenced literary expression and narrative focus.\n",
        "\n",
        "**Challenge to Existing Assumptions:**  \n",
        "If no significant differences are found, or if unexpected patterns emerge, it might challenge existing assumptions about gendered language in literature. This could prompt reevaluation of how gender influences writing and whether other factors (e.g., themes, genre, audience) play a more significant role.\n",
        "\n",
        "**Implications for Modern Literature:**  \n",
        "The findings could inform contemporary discussions about gender representation in modern literature and media. Understanding historical patterns of gender bias can provide context for evaluating and addressing gender biases in current literary practices.\n",
        "\n",
        "By exploring these potential outcomes, the study aims to contribute to a nuanced understanding of gendered language in literature, highlighting the complex interplay between author gender, societal norms, and narrative focus."
      ],
      "metadata": {
        "id": "RviIQD1ZEps8"
      }
    },
    {
      "cell_type": "markdown",
      "source": [
        "## Evaluation\n"
      ],
      "metadata": {
        "id": "SdqXcAbhmjeU"
      }
    },
    {
      "cell_type": "markdown",
      "source": [
        "### SparkNLP Setup and Data Preparation\n"
      ],
      "metadata": {
        "id": "d6gNBIJPml2C"
      }
    },
    {
      "cell_type": "markdown",
      "source": [
        "### 1: Install and Initialize SparkNLP"
      ],
      "metadata": {
        "id": "GIu7XOx4l3cx"
      }
    },
    {
      "cell_type": "code",
      "execution_count": 1,
      "metadata": {
        "colab": {
          "base_uri": "https://localhost:8080/"
        },
        "id": "2ySyHoeY5z0p",
        "outputId": "eda689a4-1bd3-4060-f816-8a4ac7429164"
      },
      "outputs": [
        {
          "output_type": "stream",
          "name": "stdout",
          "text": [
            "--2024-07-26 01:21:48--  http://setup.johnsnowlabs.com/colab.sh\n",
            "Resolving setup.johnsnowlabs.com (setup.johnsnowlabs.com)... 3.86.22.73\n",
            "Connecting to setup.johnsnowlabs.com (setup.johnsnowlabs.com)|3.86.22.73|:80... connected.\n",
            "HTTP request sent, awaiting response... 302 Moved Temporarily\n",
            "Location: https://raw.githubusercontent.com/JohnSnowLabs/spark-nlp/master/scripts/colab_setup.sh [following]\n",
            "--2024-07-26 01:21:48--  https://raw.githubusercontent.com/JohnSnowLabs/spark-nlp/master/scripts/colab_setup.sh\n",
            "Resolving raw.githubusercontent.com (raw.githubusercontent.com)... 185.199.110.133, 185.199.108.133, 185.199.111.133, ...\n",
            "Connecting to raw.githubusercontent.com (raw.githubusercontent.com)|185.199.110.133|:443... connected.\n",
            "HTTP request sent, awaiting response... 200 OK\n",
            "Length: 1191 (1.2K) [text/plain]\n",
            "Saving to: ‘STDOUT’\n",
            "\n",
            "-                     0%[                    ]       0  --.-KB/s               Installing PySpark 3.2.3 and Spark NLP 5.4.1\n",
            "setup Colab for PySpark 3.2.3 and Spark NLP 5.4.1\n",
            "-                   100%[===================>]   1.16K  --.-KB/s    in 0s      \n",
            "\n",
            "2024-07-26 01:21:49 (54.8 MB/s) - written to stdout [1191/1191]\n",
            "\n",
            "\u001b[2K     \u001b[90m━━━━━━━━━━━━━━━━━━━━━━━━━━━━━━━━━━━━━━━━\u001b[0m \u001b[32m281.5/281.5 MB\u001b[0m \u001b[31m3.5 MB/s\u001b[0m eta \u001b[36m0:00:00\u001b[0m\n",
            "\u001b[?25h  Preparing metadata (setup.py) ... \u001b[?25l\u001b[?25hdone\n",
            "\u001b[2K     \u001b[90m━━━━━━━━━━━━━━━━━━━━━━━━━━━━━━━━━━━━━━━━\u001b[0m \u001b[32m55.6/55.6 kB\u001b[0m \u001b[31m3.8 MB/s\u001b[0m eta \u001b[36m0:00:00\u001b[0m\n",
            "\u001b[2K   \u001b[90m━━━━━━━━━━━━━━━━━━━━━━━━━━━━━━━━━━━━━━━━\u001b[0m \u001b[32m579.2/579.2 kB\u001b[0m \u001b[31m32.1 MB/s\u001b[0m eta \u001b[36m0:00:00\u001b[0m\n",
            "\u001b[2K   \u001b[90m━━━━━━━━━━━━━━━━━━━━━━━━━━━━━━━━━━━━━━━━\u001b[0m \u001b[32m199.7/199.7 kB\u001b[0m \u001b[31m15.0 MB/s\u001b[0m eta \u001b[36m0:00:00\u001b[0m\n",
            "\u001b[?25h  Building wheel for pyspark (setup.py) ... \u001b[?25l\u001b[?25hdone\n",
            "Collecting spark-nlp==4.2.8\n",
            "  Downloading spark_nlp-4.2.8-py2.py3-none-any.whl.metadata (51 kB)\n",
            "\u001b[2K     \u001b[90m━━━━━━━━━━━━━━━━━━━━━━━━━━━━━━━━━━━━━━━━\u001b[0m \u001b[32m51.8/51.8 kB\u001b[0m \u001b[31m3.9 MB/s\u001b[0m eta \u001b[36m0:00:00\u001b[0m\n",
            "\u001b[?25hDownloading spark_nlp-4.2.8-py2.py3-none-any.whl (453 kB)\n",
            "\u001b[2K   \u001b[90m━━━━━━━━━━━━━━━━━━━━━━━━━━━━━━━━━━━━━━━━\u001b[0m \u001b[32m453.8/453.8 kB\u001b[0m \u001b[31m17.0 MB/s\u001b[0m eta \u001b[36m0:00:00\u001b[0m\n",
            "\u001b[?25hInstalling collected packages: spark-nlp\n",
            "  Attempting uninstall: spark-nlp\n",
            "    Found existing installation: spark-nlp 5.4.1\n",
            "    Uninstalling spark-nlp-5.4.1:\n",
            "      Successfully uninstalled spark-nlp-5.4.1\n",
            "Successfully installed spark-nlp-4.2.8\n",
            "explain_document_ml download started this may take some time.\n",
            "Approx size to download 9.2 MB\n",
            "[OK!]\n"
          ]
        }
      ],
      "source": [
        "!wget http://setup.johnsnowlabs.com/colab.sh -O - | bash\n",
        "\n",
        "# Install SparkNLP\n",
        "!pip install spark-nlp==4.2.8\n",
        "\n",
        "# Import SparkNLP and start the session\n",
        "import sparknlp\n",
        "spark = sparknlp.start() # Remove the spark24 parameter if present\n",
        "\n",
        "# Import PretrainedPipeline\n",
        "from sparknlp.pretrained import PretrainedPipeline\n",
        "\n",
        "# Load a pretrained pipeline\n",
        "pipeline = PretrainedPipeline(\"explain_document_ml\")\n"
      ]
    },
    {
      "cell_type": "markdown",
      "source": [
        "### 2: Annotate Sample Sentences\n",
        "\n",
        "Define a list of sample sentences containing various pronouns and use the pretrained pipeline to annotate them."
      ],
      "metadata": {
        "id": "yHboO7dTsDsV"
      }
    },
    {
      "cell_type": "code",
      "source": [
        "hls = [\n",
        "    # Subject pronouns\n",
        "    \"She ran\", \"He ran\", \"I ran\", \"We ran\", \"They ran\", \"You ran\", \"It ran\",\n",
        "    # Object pronouns\n",
        "    \"I saw her\", \"I saw him\", \"I saw them\", \"I saw us\", \"I saw you\", \"I saw it\",\n",
        "    # Possessive pronouns (used as objects)\n",
        "    \"I know her name\", \"I know his name\", \"I know their name\", \"I know our name\", \"I know your name\", \"I know its name\",\n",
        "    # Possessive pronouns (used as subjects)\n",
        "    \"That is hers\", \"That is his\", \"That is theirs\", \"That is ours\", \"That is yours\", \"That is its\",\n",
        "    # Reflexive pronouns\n",
        "    \"She saw herself\", \"He saw himself\", \"I saw myself\", \"We saw ourselves\", \"They saw themselves\", \"You saw yourself\", \"It saw itself\"\n",
        "]\n",
        "\n",
        "dfs = [pipeline.annotate(hl) for hl in hls] # Now hls is defined before this line is executed\n",
        "tok_tag = [(df['token'],df['pos']) for df in dfs]\n",
        "zips = [list(zip(tt[0], tt[1])) for tt in tok_tag]\n",
        "tagged = [\" \".join([\"\".join(word) for word in hl]) for hl in zips]\n"
      ],
      "metadata": {
        "id": "uDC93YLC-CQV"
      },
      "execution_count": 2,
      "outputs": []
    },
    {
      "cell_type": "markdown",
      "source": [
        "### 3: Download and Read Texts\n",
        "\n",
        "Download the texts from Project Gutenberg and read them into Python."
      ],
      "metadata": {
        "id": "G8Q9Wv_MtdcE"
      }
    },
    {
      "cell_type": "code",
      "source": [
        "# Grab the texts from Project Gutenberg\n",
        "\n",
        "!curl \"https://www.gutenberg.org/cache/epub/2701/pg2701.txt\" -o mobydick.txt\n",
        "!curl \"https://www.gutenberg.org/cache/epub/37106/pg37106.txt\" -o littlewomen.txt\n",
        "!curl \"https://www.gutenberg.org/cache/epub/2788/pg2788.txt\" -o littlemen.txt\n"
      ],
      "metadata": {
        "id": "A1r2Zowj-fn0",
        "colab": {
          "base_uri": "https://localhost:8080/"
        },
        "collapsed": true,
        "outputId": "5c0fb784-66ea-44cb-b3b9-8ba70161677e"
      },
      "execution_count": 3,
      "outputs": [
        {
          "output_type": "stream",
          "name": "stdout",
          "text": [
            "  % Total    % Received % Xferd  Average Speed   Time    Time     Time  Current\n",
            "                                 Dload  Upload   Total   Spent    Left  Speed\n",
            "100 1246k  100 1246k    0     0  1326k      0 --:--:-- --:--:-- --:--:-- 1325k\n",
            "  % Total    % Received % Xferd  Average Speed   Time    Time     Time  Current\n",
            "                                 Dload  Upload   Total   Spent    Left  Speed\n",
            "100 1087k  100 1087k    0     0  1352k      0 --:--:-- --:--:-- --:--:-- 1352k\n",
            "  % Total    % Received % Xferd  Average Speed   Time    Time     Time  Current\n",
            "                                 Dload  Upload   Total   Spent    Left  Speed\n",
            "100  585k  100  585k    0     0   688k      0 --:--:-- --:--:-- --:--:--  688k\n"
          ]
        }
      ]
    },
    {
      "cell_type": "code",
      "source": [
        "mobydick = open('mobydick.txt').read()\n",
        "littlewomen = open('littlewomen.txt').read()\n",
        "littlemen = open('littlemen.txt').read()"
      ],
      "metadata": {
        "id": "9iknDpCz-fqO"
      },
      "execution_count": 4,
      "outputs": []
    },
    {
      "cell_type": "code",
      "source": [
        "\n",
        "# Sample output\n",
        "print(mobydick[:1000])\n",
        "pipeline.annotate(mobydick[:100])['pos']\n",
        "\n",
        "print(littlewomen[:1000])\n",
        "pipeline.annotate(littlewomen[:100])['pos']\n",
        "\n",
        "print(littlemen[:1000])\n",
        "pipeline.annotate(littlemen[:100])['pos']\n"
      ],
      "metadata": {
        "colab": {
          "base_uri": "https://localhost:8080/"
        },
        "collapsed": true,
        "id": "XK3Gk24qy19i",
        "outputId": "f158b732-8630-405d-ecda-606556933777"
      },
      "execution_count": 5,
      "outputs": [
        {
          "output_type": "stream",
          "name": "stdout",
          "text": [
            "﻿The Project Gutenberg eBook of Moby Dick; Or, The Whale\n",
            "    \n",
            "This ebook is for the use of anyone anywhere in the United States and\n",
            "most other parts of the world at no cost and with almost no restrictions\n",
            "whatsoever. You may copy it, give it away or re-use it under the terms\n",
            "of the Project Gutenberg License included with this ebook or online\n",
            "at www.gutenberg.org. If you are not located in the United States,\n",
            "you will have to check the laws of the country where you are located\n",
            "before using this eBook.\n",
            "\n",
            "Title: Moby Dick; Or, The Whale\n",
            "\n",
            "Author: Herman Melville\n",
            "\n",
            "Release date: July 1, 2001 [eBook #2701]\n",
            "                Most recently updated: August 18, 2021\n",
            "\n",
            "Language: English\n",
            "\n",
            "Credits: Daniel Lazarus, Jonesey, and David Widger\n",
            "\n",
            "\n",
            "*** START OF THE PROJECT GUTENBERG EBOOK MOBY DICK; OR, THE WHALE ***\n",
            "\n",
            "\n",
            "\n",
            "\n",
            "MOBY-DICK;\n",
            "\n",
            "or, THE WHALE.\n",
            "\n",
            "By Herman Melville\n",
            "\n",
            "\n",
            "\n",
            "CONTENTS\n",
            "\n",
            "ETYMOLOGY.\n",
            "\n",
            "EXTRACTS (Supplied by a Sub-Sub-Librarian).\n",
            "\n",
            "CHAPTER 1. Loomings.\n",
            "\n",
            "CHAPTER 2. The Carpet-Bag.\n",
            "\n",
            "CHAPTER 3. The Spouter-Inn\n",
            "﻿The Project Gutenberg eBook of Little Women; Or, Meg, Jo, Beth, and Amy\n",
            "    \n",
            "This ebook is for the use of anyone anywhere in the United States and\n",
            "most other parts of the world at no cost and with almost no restrictions\n",
            "whatsoever. You may copy it, give it away or re-use it under the terms\n",
            "of the Project Gutenberg License included with this ebook or online\n",
            "at www.gutenberg.org. If you are not located in the United States,\n",
            "you will have to check the laws of the country where you are located\n",
            "before using this eBook.\n",
            "\n",
            "Title: Little Women; Or, Meg, Jo, Beth, and Amy\n",
            "\n",
            "Author: Louisa May Alcott\n",
            "\n",
            "Illustrator: Frank T. Merrill\n",
            "\n",
            "Release date: August 16, 2011 [eBook #37106]\n",
            "                Most recently updated: May 22, 2023\n",
            "\n",
            "Language: English\n",
            "\n",
            "Credits: David Edwards, Ernest Schaal, Robert Homa, and the Online Distributed Proofreading Team\n",
            "\n",
            "\n",
            "*** START OF THE PROJECT GUTENBERG EBOOK LITTLE WOMEN; OR, MEG, JO, BETH, AND AMY ***\n",
            "\n",
            "\n",
            "\n",
            "\n",
            "                      [Illustration: LITTLE WOMEN\n",
            "               \n",
            "﻿The Project Gutenberg eBook of Little Men: Life at Plumfield With Jo's Boys\n",
            "    \n",
            "This ebook is for the use of anyone anywhere in the United States and\n",
            "most other parts of the world at no cost and with almost no restrictions\n",
            "whatsoever. You may copy it, give it away or re-use it under the terms\n",
            "of the Project Gutenberg License included with this ebook or online\n",
            "at www.gutenberg.org. If you are not located in the United States,\n",
            "you will have to check the laws of the country where you are located\n",
            "before using this eBook.\n",
            "\n",
            "Title: Little Men: Life at Plumfield With Jo's Boys\n",
            "\n",
            "Author: Louisa May Alcott\n",
            "\n",
            "Release date: August 1, 2001 [eBook #2788]\n",
            "                Most recently updated: July 12, 2024\n",
            "\n",
            "Language: English\n",
            "\n",
            "Credits: David Reed, and David Widger\n",
            "\n",
            "\n",
            "*** START OF THE PROJECT GUTENBERG EBOOK LITTLE MEN: LIFE AT PLUMFIELD WITH JO'S BOYS ***\n",
            "\n",
            "\n",
            "\n",
            "\n",
            "LITTLE MEN: LIFE AT PLUMFIELD WITH JO'S BOYS\n",
            "\n",
            "By Louisa May Alcott\n",
            "\n",
            "\n",
            "     TO\n",
            "     FREDDY AND JOHNNY,\n",
            "     THE LITTLE MEN\n",
            "     TO WHOM SHE OWES S\n"
          ]
        },
        {
          "output_type": "execute_result",
          "data": {
            "text/plain": [
              "['DT',\n",
              " 'NNP',\n",
              " 'NNP',\n",
              " 'NN',\n",
              " 'IN',\n",
              " 'NNP',\n",
              " 'NNP',\n",
              " ':',\n",
              " 'NNP',\n",
              " 'IN',\n",
              " 'NNP',\n",
              " 'IN',\n",
              " 'NNS',\n",
              " 'NNP',\n",
              " 'DT',\n",
              " 'NN',\n",
              " 'VBZ',\n",
              " 'IN']"
            ]
          },
          "metadata": {},
          "execution_count": 5
        }
      ]
    },
    {
      "cell_type": "markdown",
      "source": [
        "### Step 4: Word Count Exploration\n",
        "\n",
        "Use Spark to perform a simple word count on the texts."
      ],
      "metadata": {
        "id": "KB0xSQpWzKGg"
      }
    },
    {
      "cell_type": "code",
      "source": [
        "from pyspark.sql import SparkSession\n",
        "\n",
        "spark = SparkSession.builder.appName(\"Pronoun Frequency Analysis\").getOrCreate()\n",
        "\n",
        "texts = {\n",
        "    'mobydick': 'mobydick.txt',\n",
        "    'littlewomen': 'littlewomen.txt',\n",
        "    'littlemen': 'littlemen.txt'\n",
        "}\n",
        "\n",
        "for name, file in texts.items():\n",
        "    text_rdd = spark.sparkContext.textFile(file)\n",
        "    counts = (\n",
        "        text_rdd.flatMap(lambda line: line.split(\" \"))\n",
        "        .map(lambda word: (word, 1))\n",
        "        .reduceByKey(lambda a, b: a + b)\n",
        "    )\n",
        "    print(f\"{name} word counts: {counts.collect()[:10]}\")\n"
      ],
      "metadata": {
        "id": "RGl2WFBLzLXh",
        "colab": {
          "base_uri": "https://localhost:8080/"
        },
        "outputId": "ff3bfc46-d111-4429-fa3e-80e25a47d1b2"
      },
      "execution_count": 6,
      "outputs": [
        {
          "output_type": "stream",
          "name": "stdout",
          "text": [
            "mobydick word counts: [('The', 634), ('Project', 80), ('of', 6642), ('Moby', 79), ('', 4320), ('ebook', 2), ('is', 1585), ('use', 36), ('anyone', 5), ('anywhere', 11)]\n",
            "littlewomen word counts: [('The', 341), ('Project', 82), ('of', 3622), ('Women;', 3), ('Jo,', 406), ('Amy', 356), ('', 24604), ('ebook', 2), ('is', 758), ('use', 54)]\n",
            "littlemen word counts: [('The', 218), ('Project', 79), ('of', 2019), ('Life', 3), ('at', 545), ('Boys', 3), ('', 3383), ('ebook', 2), ('is', 436), ('use', 21)]\n"
          ]
        }
      ]
    },
    {
      "cell_type": "markdown",
      "source": [
        "### Step 5: Pronoun Frequency Analysis\n",
        "Perform a detailed analysis of pronoun frequencies."
      ],
      "metadata": {
        "id": "J6qLSHF4zWOy"
      }
    },
    {
      "cell_type": "code",
      "source": [
        "import pyspark\n",
        "from sparknlp.base import DocumentAssembler # Make sure this line of code is executed before you use the Document Assembler object.\n",
        "from sparknlp.annotator import Tokenizer, PerceptronModel\n",
        "from pyspark.sql.functions import col, explode, arrays_zip, when, count\n",
        "import matplotlib.pyplot as plt\n",
        "from scipy.stats import chi2_contingency\n",
        "from pyspark.ml import Pipeline # Import the Pipeline object\n",
        "import numpy as np\n"
      ],
      "metadata": {
        "id": "AO6UV8aEzdBG"
      },
      "execution_count": 7,
      "outputs": []
    },
    {
      "cell_type": "code",
      "source": [
        "# Initialize Spark session\n",
        "spark = SparkSession.builder.appName(\"Pronoun Frequency Analysis\").getOrCreate()\n"
      ],
      "metadata": {
        "id": "Ng75f7jy48eO"
      },
      "execution_count": 8,
      "outputs": []
    },
    {
      "cell_type": "code",
      "source": [
        "# Load the texts\n",
        "texts_data = [(mobydick, 'Moby-Dick'), (littlewomen, 'Little Women'), (littlemen, 'Little Men')]\n",
        "df = spark.createDataFrame(texts_data, [\"text\", \"book\"])\n"
      ],
      "metadata": {
        "id": "g9EPIigSze71"
      },
      "execution_count": 9,
      "outputs": []
    },
    {
      "cell_type": "code",
      "source": [
        "# Define Spark NLP pipeline\n",
        "document_assembler = DocumentAssembler().setInputCol(\"text\").setOutputCol(\"document\")\n",
        "tokenizer = Tokenizer().setInputCols([\"document\"]).setOutputCol(\"token\")\n",
        "pos_tagger = PerceptronModel.pretrained().setInputCols([\"document\", \"token\"]).setOutputCol(\"pos\")\n",
        "\n",
        "pipeline = Pipeline(stages=[document_assembler, tokenizer, pos_tagger])"
      ],
      "metadata": {
        "colab": {
          "base_uri": "https://localhost:8080/"
        },
        "id": "bOH7E9lxzg6m",
        "outputId": "ba0a853f-1ca1-4c72-bf4e-c7b4b508ead0"
      },
      "execution_count": 10,
      "outputs": [
        {
          "output_type": "stream",
          "name": "stdout",
          "text": [
            "pos_anc download started this may take some time.\n",
            "Approximate size to download 3.9 MB\n",
            "[OK!]\n"
          ]
        }
      ]
    },
    {
      "cell_type": "code",
      "source": [
        "# Process the texts\n",
        "model = pipeline.fit(df)\n",
        "result = model.transform(df)"
      ],
      "metadata": {
        "id": "U2SA3B_0zm7c"
      },
      "execution_count": 11,
      "outputs": []
    },
    {
      "cell_type": "code",
      "source": [
        "# Extract tokens and POS tags\n",
        "tokens_pos = result.select(\"book\", explode(arrays_zip(result.token.result, result.pos.result)).alias(\"cols\")) \\\n",
        "    .select(\"book\", col(\"cols\")[\"0\"].alias(\"token\"), col(\"cols\")[\"1\"].alias(\"pos\"))\n"
      ],
      "metadata": {
        "id": "kuz9QHdLzpD7"
      },
      "execution_count": 12,
      "outputs": []
    },
    {
      "cell_type": "code",
      "source": [
        "# Pronoun lists\n",
        "feminine_pronouns = ['she', 'her']\n",
        "masculine_pronouns = ['he', 'him']"
      ],
      "metadata": {
        "id": "vWNMfEzmzp1A"
      },
      "execution_count": 13,
      "outputs": []
    },
    {
      "cell_type": "code",
      "source": [
        "# Count pronoun occurrences by POS tag\n",
        "subject_tags = ['PRP']\n",
        "object_tags = ['PRP$', 'DT']"
      ],
      "metadata": {
        "id": "0Ts5rVRmztWu"
      },
      "execution_count": 14,
      "outputs": []
    },
    {
      "cell_type": "code",
      "source": [
        "def get_count(count_list, index=0):\n",
        "    return count_list[index]['count'] if count_list else 0"
      ],
      "metadata": {
        "id": "MK8HryP15Ox_"
      },
      "execution_count": 15,
      "outputs": []
    },
    {
      "cell_type": "code",
      "source": [
        "# Collect counts with safety checks\n",
        "feminine_subject_count = tokens_pos.filter((col(\"token\").isin(feminine_pronouns)) & (col(\"pos\").isin(subject_tags))).groupBy(\"book\").count().collect()\n",
        "feminine_object_count = tokens_pos.filter((col(\"token\").isin(feminine_pronouns)) & (col(\"pos\").isin(object_tags))).groupBy(\"book\").count().collect()\n",
        "masculine_subject_count = tokens_pos.filter((col(\"token\").isin(masculine_pronouns)) & (col(\"pos\").isin(subject_tags))).groupBy(\"book\").count().collect()\n",
        "masculine_object_count = tokens_pos.filter((col(\"token\").isin(masculine_pronouns)) & (col(\"pos\").isin(object_tags))).groupBy(\"book\").count().collect()\n"
      ],
      "metadata": {
        "id": "Nu97tlF70hNV"
      },
      "execution_count": null,
      "outputs": []
    },
    {
      "cell_type": "code",
      "source": [
        "# Convert counts to list for chi-squared test\n",
        "data = [\n",
        "    [\n",
        "        get_count(feminine_subject_count),\n",
        "        get_count(feminine_object_count)\n",
        "    ],\n",
        "    [\n",
        "        get_count(masculine_subject_count),\n",
        "        get_count(masculine_object_count)\n",
        "    ]\n",
        "]"
      ],
      "metadata": {
        "id": "xmgCPWyj0EkQ"
      },
      "execution_count": null,
      "outputs": []
    },
    {
      "cell_type": "code",
      "source": [
        "# Perform chi-squared test\n",
        "chi2, p, dof, ex = chi2_contingency(data)"
      ],
      "metadata": {
        "id": "jNzKO9oF0FlM"
      },
      "execution_count": null,
      "outputs": []
    },
    {
      "cell_type": "code",
      "source": [
        "# Visualize the data\n",
        "labels = ['Feminine Subject', 'Feminine Object', 'Masculine Subject', 'Masculine Object']\n",
        "counts_data = [\n",
        "    get_count(feminine_subject_count),\n",
        "    get_count(feminine_object_count),\n",
        "    get_count(masculine_subject_count),\n",
        "    get_count(masculine_object_count)\n",
        "]\n",
        "\n",
        "plt.figure(figsize=(10, 6))\n",
        "plt.bar(labels, counts_data, color=['#FF69B4', '#FF69B4', '#1E90FF', '#1E90FF'])\n",
        "plt.xlabel('Pronoun Type and Syntactic Role')\n",
        "plt.ylabel('Frequency')\n",
        "plt.title('Pronoun Frequencies by Syntactic Role and Text')\n",
        "plt.show()"
      ],
      "metadata": {
        "id": "Zk8fMFw_0Hwg"
      },
      "execution_count": null,
      "outputs": []
    },
    {
      "cell_type": "code",
      "source": [
        "# Output results\n",
        "print(\"Chi-Squared Test\")\n",
        "print(f\"Chi2 Statistic: {chi2}\")\n",
        "print(f\"P-value: {p}\")"
      ],
      "metadata": {
        "id": "yf9xPENt5bj4"
      },
      "execution_count": null,
      "outputs": []
    },
    {
      "cell_type": "markdown",
      "source": [
        "Visualize by book\n"
      ],
      "metadata": {
        "id": "VhAv4fTk6heF"
      }
    },
    {
      "cell_type": "code",
      "source": [
        "# Visualization\n",
        "books = ['Moby-Dick', 'Little Women', 'Little Men']\n",
        "pronoun_labels = ['Feminine Subject', 'Feminine Object', 'Masculine Subject', 'Masculine Object']\n",
        "\n",
        "# Extract counts for each book\n",
        "counts_by_book = {\n",
        "    book: [\n",
        "        get_count(feminine_subject_count, books.index(book)), # Use books.index(book) to get the index of the current book\n",
        "        get_count(feminine_object_count, books.index(book)), # Use books.index(book) to get the index of the current book\n",
        "        get_count(masculine_subject_count, books.index(book)), # Use books.index(book) to get the index of the current book\n",
        "        get_count(masculine_object_count, books.index(book)) # Use books.index(book) to get the index of the current book\n",
        "    ] for book in books\n",
        "}"
      ],
      "metadata": {
        "id": "iX9OVPRl6S-U"
      },
      "execution_count": null,
      "outputs": []
    },
    {
      "cell_type": "code",
      "source": [
        "# prompt: Do it by each book\n",
        "\n",
        "# Create a bar chart for each book\n",
        "for book, counts in counts_by_book.items():\n",
        "    plt.figure(figsize=(10, 6))\n",
        "    plt.bar(pronoun_labels, counts, color=['#FF69B4', '#FF69B4', '#1E90FF', '#1E90FF'])\n",
        "    plt.xlabel('Pronoun Type and Syntactic Role')\n",
        "    plt.ylabel('Frequency')\n",
        "    plt.title(f'Pronoun Frequencies by Syntactic Role in \"{book}\"')\n",
        "    plt.show()\n",
        "\n",
        "    # Perform chi-squared test for each book\n",
        "    chi2, p, dof, ex = chi2_contingency([counts[:2], counts[2:]])\n",
        "    print(f\"Chi-Squared Test for {book}\")\n",
        "    print(f\"Chi2 Statistic: {chi2}\")\n",
        "    print(f\"P-value: {p}\")\n"
      ],
      "metadata": {
        "id": "4nLTWe3TEK0u"
      },
      "execution_count": null,
      "outputs": []
    },
    {
      "cell_type": "markdown",
      "source": [
        "Comparing Grammatical Gender by Feminine and Masculine Subject and Object by Book"
      ],
      "metadata": {
        "id": "gV-gmREi3T-X"
      }
    },
    {
      "cell_type": "code",
      "source": [
        "# prompt: Comparing Grammatical Gender by Feminine and Masculine Subject and Object by Book\n",
        "\n",
        "# Comparing Grammatical Gender by Feminim and Masculine Subject and Object by Book\n",
        "# Assuming the task is to compare the counts of feminine and masculine pronouns in subject and object positions for each book:\n",
        "\n",
        "books = ['Moby-Dick', 'Little Women', 'Little Men']\n",
        "pronoun_labels = ['Feminine Subject', 'Feminine Object', 'Masculine Subject', 'Masculine Object']\n",
        "\n",
        "# Extract counts for each book\n",
        "counts_by_book = {\n",
        "    book: [\n",
        "        get_count(feminine_subject_count, books.index(book)),\n",
        "        get_count(feminine_object_count, books.index(book)),\n",
        "        get_count(masculine_subject_count, books.index(book)),\n",
        "        get_count(masculine_object_count, books.index(book))\n",
        "    ] for book in books\n",
        "}\n",
        "\n",
        "# Print the counts for comparison\n",
        "for book, counts in counts_by_book.items():\n",
        "    print(f\"Pronoun Counts in '{book}':\")\n",
        "    for label, count in zip(pronoun_labels, counts):\n",
        "        print(f\"  {label}: {count}\")\n",
        "    print()\n"
      ],
      "metadata": {
        "id": "JQyUcroO3dFb"
      },
      "execution_count": null,
      "outputs": []
    },
    {
      "cell_type": "code",
      "source": [
        "import matplotlib.pyplot as plt\n",
        "\n",
        "# Pronoun counts for each book\n",
        "books = ['Moby-Dick', 'Little Women', 'Little Men']\n",
        "feminine_subjects = [127, 663, 2327]\n",
        "feminine_objects = [291, 766, 2968]\n",
        "masculine_subjects = [2532, 1998, 2083]\n",
        "masculine_objects = [0, 0, 0]\n",
        "\n",
        "# Create subplots\n",
        "fig, axes = plt.subplots(2, 2, figsize=(15, 10))\n",
        "axes = axes.flatten()\n",
        "\n",
        "# Create a bar chart for each book\n",
        "for i, book in enumerate(books):\n",
        "    ax = axes[i]\n",
        "    labels = ['Feminine Subject', 'Feminine Object', 'Masculine Subject', 'Masculine Object']\n",
        "    counts = [feminine_subjects[i], feminine_objects[i], masculine_subjects[i], masculine_objects[i]]\n",
        "\n",
        "    ax.bar(labels, counts, color=['#FF69B4', '#D8BFD8', '#1E90FF', '#ADD8E6'])\n",
        "    ax.set_xlabel('Pronoun Type and Syntactic Role')\n",
        "    ax.set_ylabel('Frequency')\n",
        "    ax.set_title(f'Pronoun Frequencies in \"{book}\"')\n",
        "\n",
        "plt.tight_layout()\n",
        "plt.show()"
      ],
      "metadata": {
        "id": "yNRUK6YW3mnB"
      },
      "execution_count": null,
      "outputs": []
    },
    {
      "cell_type": "code",
      "source": [
        "import matplotlib.pyplot as plt\n",
        "\n",
        "# Pronoun counts for each book\n",
        "books = ['Moby-Dick', 'Little Women', 'Little Men']\n",
        "feminine_subjects = [127, 663, 2327]\n",
        "feminine_objects = [291, 766, 2968]\n",
        "masculine_subjects = [2532, 1998, 2083]\n",
        "masculine_objects = [0, 0, 0]\n",
        "\n",
        "# Create separate figures for each pronoun type\n",
        "fig1, ax1 = plt.subplots(figsize=(8, 6))\n",
        "fig2, ax2 = plt.subplots(figsize=(8, 6))\n",
        "fig3, ax3 = plt.subplots(figsize=(8, 6))\n",
        "fig4, ax4 = plt.subplots(figsize=(8, 6))\n",
        "\n",
        "# Create bar charts\n",
        "ax1.bar(books, feminine_subjects, color='#FF69B4')\n",
        "ax1.set_ylabel('Frequency')\n",
        "ax1.set_title('Feminine Subject Pronoun Frequencies')\n",
        "\n",
        "ax2.bar(books, feminine_objects, color='#D8BFD8')\n",
        "ax2.set_ylabel('Frequency')\n",
        "ax2.set_title('Feminine Object Pronoun Frequencies')\n",
        "\n",
        "ax3.bar(books, masculine_subjects, color='#1E90FF')\n",
        "ax3.set_ylabel('Frequency')\n",
        "ax3.set_title('Masculine Subject Pronoun Frequencies')\n",
        "\n",
        "ax4.bar(books, masculine_objects, color='#ADD8E6')\n",
        "ax4.set_ylabel('Frequency')\n",
        "ax4.set_title('Masculine Object Pronoun Frequencies')\n",
        "\n",
        "# Display the charts\n",
        "plt.show()"
      ],
      "metadata": {
        "id": "uhGK6nvx5O9j"
      },
      "execution_count": null,
      "outputs": []
    },
    {
      "cell_type": "markdown",
      "source": [
        "% of Pronoun Usage by book"
      ],
      "metadata": {
        "id": "CGpArTzc1-Vi"
      }
    },
    {
      "cell_type": "code",
      "source": [
        "# prompt: Calculate the % of Pronoun Usage by book\n",
        "\n",
        "total_pronouns_by_book = {\n",
        "    book: sum(counts)\n",
        "    for book, counts in counts_by_book.items()\n",
        "}\n",
        "\n",
        "percentage_by_book = {\n",
        "    book: {\n",
        "        label: count / total_pronouns_by_book[book] * 100\n",
        "        for label, count in zip(pronoun_labels, counts)\n",
        "    }\n",
        "    for book, counts in counts_by_book.items()\n",
        "}\n",
        "\n",
        "for book, percentages in percentage_by_book.items():\n",
        "    print(f\"Percentage of Pronoun Usage in {book}:\")\n",
        "    for label, percentage in percentages.items():\n",
        "        print(f\"  {label}: {percentage:.2f}%\")\n"
      ],
      "metadata": {
        "id": "C0B9sI1X2HHz"
      },
      "execution_count": null,
      "outputs": []
    },
    {
      "cell_type": "markdown",
      "source": [
        "### **Hypothesis 1: Author Gender Influences Pronoun Usage**\n",
        "\n",
        "\n",
        "* **Null Hypothesis (H0):** There is no significant difference in the frequency of masculine and feminine pronouns between the texts.\n",
        "* **Alternative Hypothesis (H1):** There is a significant difference in the frequency of masculine and feminine pronouns between the texts.\n"
      ],
      "metadata": {
        "id": "wV-HPx4tLFJb"
      }
    },
    {
      "cell_type": "code",
      "source": [
        "# prompt: Compare Little Women and Moby-Dick Pronoun Usage and chi-square\n",
        "\n",
        "# Assuming you want to perform a chi-squared test to compare pronoun usage in Little Women and Moby Dick:\n",
        "\n",
        "# Extract counts for Little Women and Moby Dick\n",
        "little_women_counts = counts_by_book['Little Women']\n",
        "moby_dick_counts = counts_by_book['Moby-Dick']\n",
        "\n",
        "# Remove Masculine Object Pronouns as they are all 0\n",
        "little_women_counts = little_women_counts[:-1]\n",
        "moby_dick_counts = moby_dick_counts[:-1]\n",
        "\n",
        "# Perform chi-squared test\n",
        "chi2, p, dof, ex = chi2_contingency([little_women_counts, moby_dick_counts])\n",
        "\n",
        "# Output results\n",
        "print(\"Chi-Squared Test for Little Women vs. Moby Dick\")\n",
        "print(f\"Chi2 Statistic: {chi2}\")\n",
        "print(f\"P-value: {p}\")"
      ],
      "metadata": {
        "id": "Z4kH-PmSLHTo"
      },
      "execution_count": null,
      "outputs": []
    },
    {
      "cell_type": "code",
      "source": [
        "# prompt: Visualize Little Women and Moby-Dick Pronoun Usage\n",
        "\n",
        "# Extract counts for Little Women and Moby Dick\n",
        "little_women_counts = counts_by_book['Little Women']\n",
        "moby_dick_counts = counts_by_book['Moby-Dick']\n",
        "\n",
        "# Create a bar chart for comparison\n",
        "labels = ['Feminine Subject', 'Feminine Object', 'Masculine Subject', 'Masculine Object']\n",
        "x = np.arange(len(labels))  # the label locations\n",
        "width = 0.35  # the width of the bars\n",
        "\n",
        "fig, ax = plt.subplots(figsize=(10, 6))\n",
        "rects1 = ax.bar(x - width/2, little_women_counts, width, label='Little Women', color='#FF69B4')\n",
        "rects2 = ax.bar(x + width/2, moby_dick_counts, width, label='Moby Dick', color='#1E90FF')\n",
        "\n",
        "# Add some text for labels, title and custom x-axis tick labels, etc.\n",
        "ax.set_ylabel('Frequency')\n",
        "ax.set_title('Pronoun Frequencies in Little Women vs. Moby Dick')\n",
        "ax.set_xticks(x)\n",
        "ax.set_xticklabels(labels)\n",
        "ax.legend()\n",
        "\n",
        "plt.show()\n"
      ],
      "metadata": {
        "id": "aE9BmskSLPh5"
      },
      "execution_count": null,
      "outputs": []
    },
    {
      "cell_type": "markdown",
      "source": [
        "###Results\n",
        "* Chi2 Statistic: 607.79\n",
        "* P-value: 1.0457e-132\n",
        "\n",
        "**Interpretation**\n",
        "\n",
        "The chi-square test comparing \"Little Women\" and \"Moby-Dick\" shows a chi2 statistic of 607.79, which is very high. This means there is a significant difference in the pronoun usage between the two books. The p-value is extremely small, indicating that these differences are not due to random chance.\n",
        "\n",
        "**Conclusion**\n",
        "\n",
        "**Reject** the Null Hypothesis (H0): We can confidently say that there is a significant difference in pronoun frequency between \"Little Women\" and \"Moby-Dick.\"\n",
        "\n",
        "**Support the Alternative Hypothesis (H1):** The data strongly supports the idea that there are significant differences in how pronouns are used in these two books.\n",
        "\n",
        "**Addressing the Hypotheses**\n",
        "\n",
        "Hypothesis 1: Higher Frequency of Masculine Pronouns in \"Moby-Dick\" vs. Higher Frequency of Feminine Pronouns in \"Little Women\"\n",
        "\n",
        "The results show that \"Moby-Dick\" has a higher frequency of masculine pronouns, while \"Little Women\" has a higher frequency of feminine pronouns, confirming our hypothesis."
      ],
      "metadata": {
        "id": "xm8bhbl7NOR9"
      }
    },
    {
      "cell_type": "code",
      "source": [
        "# prompt: Visualize Little Women and Moby-Dick Pronoun Usage Chi-Square\n",
        "\n",
        "# Extract counts for Little Women and Moby Dick\n",
        "little_women_counts = counts_by_book['Little Women'][:2]  # Feminine subject and object\n",
        "moby_dick_counts = counts_by_book['Moby-Dick'][:2]  # Feminine subject and object\n",
        "\n",
        "# Perform chi-squared test\n",
        "chi2, p, dof, ex = chi2_contingency([little_women_counts, moby_dick_counts])\n",
        "\n",
        "# Output results\n",
        "print(\"Chi-Squared Test for Feminine Pronoun Usage in Little Women vs. Moby Dick\")\n",
        "print(f\"Chi2 Statistic: {chi2}\")\n",
        "print(f\"P-value: {p}\")\n",
        "\n",
        "# Create a bar chart for comparison\n",
        "labels = ['Feminine Subject', 'Feminine Object']\n",
        "x = np.arange(len(labels))  # the label locations\n",
        "width = 0.35  # the width of the bars\n",
        "\n",
        "fig, ax = plt.subplots(figsize=(8, 6))\n",
        "rects1 = ax.bar(x - width/2, little_women_counts, width, label='Little Women', color='#FF69B4')\n",
        "rects2 = ax.bar(x + width/2, moby_dick_counts, width, label='Moby Dick', color='#1E90FF')\n",
        "\n",
        "# Add some text for labels, title and custom x-axis tick labels, etc.\n",
        "ax.set_ylabel('Frequency')\n",
        "ax.set_title('Feminine Pronoun Frequencies in Little Women vs. Moby Dick')\n",
        "ax.set_xticks(x)\n",
        "ax.set_xticklabels(labels)\n",
        "ax.legend()\n",
        "\n",
        "plt.show()\n"
      ],
      "metadata": {
        "id": "mbw05OJaLcwF"
      },
      "execution_count": null,
      "outputs": []
    },
    {
      "cell_type": "markdown",
      "source": [
        "**Interpretation**\n",
        "\n",
        "The **chi-square test** comparing feminine pronoun usage in \"Little Women\" and \"Moby-Dick\" shows a chi2 statistic of 33.23. This high value indicates a significant difference between the observed and expected frequencies of feminine pronoun usage in these texts. The p-value is extremely small, much lower than the typical significance level of 0.05, suggesting that the observed differences in feminine pronoun frequencies are highly unlikely to have occurred by chance.\n",
        "\n",
        "The **chart** visually confirms that \"Little Women\" uses feminine pronouns (both subject and object) far more frequently than \"Moby-Dick.\"\n",
        "This supports the hypothesis that \"Little Women,\" written from a female perspective, emphasizes feminine pronouns to reflect the female-centric narrative.\n",
        "In contrast, \"Moby-Dick\" has fewer feminine pronouns, aligning with the male-centric narrative focus of the text."
      ],
      "metadata": {
        "id": "G9mrwxN-N2ku"
      }
    },
    {
      "cell_type": "markdown",
      "source": [
        "\n",
        "### **Hypothesis 2: Gender Narration Perspective Impacts Pronoun Usage**\n",
        "\n",
        "\n",
        "* **Null Hypothesis (H0):** There is no significant difference in pronoun frequency between \"Little Women\" and \"Little Men\".\n",
        "* **Alternative Hypothesis (H1):** There is a significant difference in pronoun frequency between \"Little Women\" and \"Little Men\"."
      ],
      "metadata": {
        "id": "is1MYbIRKeqz"
      }
    },
    {
      "cell_type": "code",
      "source": [
        "# prompt: Compare Little Women and lIttle Men Pronoun Usage and chi-square\n",
        "\n",
        "# Extract counts for Little Women and Little Men\n",
        "lw_counts = counts_by_book['Little Women']\n",
        "lm_counts = counts_by_book['Little Men']\n",
        "\n",
        "# Remove Masculine Object Pronouns as they are all 0\n",
        "lw_counts = lw_counts[:-1]\n",
        "lm_counts = lm_counts[:-1]\n",
        "\n",
        "# Perform chi-squared test\n",
        "chi2, p, dof, ex = chi2_contingency([lw_counts, lm_counts])\n",
        "\n",
        "# Print results\n",
        "print(\"Chi-Squared Test for Little Women vs. Little Men\")\n",
        "print(f\"Chi2 Statistic: {chi2}\")\n",
        "print(f\"P-value: {p}\")"
      ],
      "metadata": {
        "id": "6EEtY7dQKhex"
      },
      "execution_count": null,
      "outputs": []
    },
    {
      "cell_type": "markdown",
      "source": [
        "#### Results and Interpretation\n",
        "* Chi^2 Statistic: 902.28\n",
        "* P-value: 1.1794e-196\n",
        "\n",
        "**Interpretation**\n",
        "\n",
        "The chi-square test results show a very high chi2 statistic of 902.28, which indicates a significant difference between the observed and expected frequencies of pronoun usage in \"Little Women\" and \"Little Men.\" The p-value is extremely small, much lower than the common threshold of 0.05, suggesting that the observed differences in pronoun frequencies are highly unlikely to have occurred by chance.\n",
        "\n",
        "**Conclusion**\n",
        "Reject the Null Hypothesis (H0): We can confidently reject the null hypothesis, which claims there is no significant difference in pronoun frequency between \"Little Women\" and \"Little Men.\"\n",
        "Support the Alternative Hypothesis (H1): The data strongly supports the alternative hypothesis, indicating a significant difference in pronoun usage between the two texts.\n",
        "\n",
        "**Addressing the Hypotheses**\n",
        "\n",
        "Hypothesis 2: Significant Difference in Pronoun Usage Between \"Little Women\" and \"Little Men\"\n",
        "\n",
        "The test results confirm a statistically significant difference in pronoun usage between \"Little Women\" and \"Little Men.\" This supports the idea that the narrative perspective and thematic focus of each text influence pronoun usage patterns."
      ],
      "metadata": {
        "id": "Ykr79l90MtdD"
      }
    },
    {
      "cell_type": "code",
      "source": [
        "# prompt: Visualize Little Women and Little Men Pronoun Usage Chi-Square\n",
        "\n",
        "# Extract counts for Little Women and Little Men\n",
        "lw_counts = counts_by_book['Little Women']\n",
        "lm_counts = counts_by_book['Little Men']\n",
        "\n",
        "# Create a bar chart for comparison\n",
        "labels = ['Feminine Subject', 'Feminine Object', 'Masculine Subject', 'Masculine Object']\n",
        "x = np.arange(len(labels))  # the label locations\n",
        "width = 0.35  # the width of the bars\n",
        "\n",
        "fig, ax = plt.subplots(figsize=(10, 6))\n",
        "rects1 = ax.bar(x - width/2, lw_counts, width, label='Little Women', color='#FF69B4')\n",
        "rects2 = ax.bar(x + width/2, lm_counts, width, label='Little Men', color='#1E90FF')\n",
        "\n",
        "# Add some text for labels, title and custom x-axis tick labels, etc.\n",
        "ax.set_ylabel('Frequency')\n",
        "ax.set_title('Pronoun Frequencies in Little Women vs. Little Men')\n",
        "ax.set_xticks(x)\n",
        "ax.set_xticklabels(labels)\n",
        "ax.legend()\n",
        "\n",
        "plt.show()\n"
      ],
      "metadata": {
        "id": "j5piKNIhLga7"
      },
      "execution_count": null,
      "outputs": []
    },
    {
      "cell_type": "code",
      "source": [
        "# prompt: Visualize Little Women and Little Men Pronoun Usage\n",
        "\n",
        "# Extract counts for Little Women and Little Men\n",
        "lw_counts = counts_by_book['Little Women'][:2]  # Feminine subject and object\n",
        "lm_counts = counts_by_book['Little Men'][:2]  # Feminine subject and object\n",
        "\n",
        "# Perform chi-squared test\n",
        "chi2, p, dof, ex = chi2_contingency([lw_counts, lm_counts])\n",
        "\n",
        "# Output results\n",
        "print(\"Chi-Squared Test for Feminine Pronoun Usage in Little Women vs. Little Men\")\n",
        "print(f\"Chi2 Statistic: {chi2}\")\n",
        "print(f\"P-value: {p}\")\n",
        "\n",
        "# Create a bar chart for comparison\n",
        "labels = ['Feminine Subject', 'Feminine Object']\n",
        "x = np.arange(len(labels))  # the label locations\n",
        "width = 0.35  # the width of the bars\n",
        "\n",
        "fig, ax = plt.subplots(figsize=(8, 6))\n",
        "rects1 = ax.bar(x - width/2, lw_counts, width, label='Little Women', color='#FF69B4')\n",
        "rects2 = ax.bar(x + width/2, lm_counts, width, label='Little Men', color='#D8BFD8')  # Lighter shade for Little Men\n",
        "\n",
        "# Add some text for labels, title and custom x-axis tick labels, etc.\n",
        "ax.set_ylabel('Frequency')\n",
        "ax.set_title('Feminine Pronoun Frequencies in Little Women vs. Little Men')\n",
        "ax.set_xticks(x)\n",
        "ax.set_xticklabels(labels)\n",
        "ax.legend()\n",
        "\n",
        "plt.show()\n"
      ],
      "metadata": {
        "id": "xpoyrMRfLkEn"
      },
      "execution_count": null,
      "outputs": []
    },
    {
      "cell_type": "markdown",
      "source": [
        "### Results\n",
        "\n",
        "**Overall Pronoun Usage**\n",
        "- **Chi2 Statistic:** 902.28\n",
        "- **P-value:** 1.1794e-196\n",
        "\n",
        "**Feminine Pronoun Usage**\n",
        "- **Chi2 Statistic:** 2.63\n",
        "- **P-value:** 0.1045\n",
        "\n",
        "### Interpretation\n",
        "\n",
        "**Overall Pronoun Usage:**\n",
        "\n",
        "The chi-square test for overall pronoun usage shows a very high chi2 statistic (902.28) and an extremely small p-value (1.1794e-196). This indicates a significant difference in pronoun usage between \"Little Women\" and \"Little Men,\" suggesting that the two texts use pronouns in markedly different ways.\n",
        "\n",
        "**Feminine Pronoun Usage:**\n",
        "\n",
        "The chi-square test for feminine pronoun usage shows a chi2 statistic of 2.63 and a p-value of 0.1045. Since the p-value is above the common significance level of 0.05, this suggests that there is no statistically significant difference in the usage of feminine pronouns between \"Little Women\" and \"Little Men.\"\n",
        "\n",
        "### Conclusion\n",
        "\n",
        "**Overall Pronoun Usage:**\n",
        "- **Reject the Null Hypothesis (H0):** We can confidently reject the null hypothesis that there is no significant difference in overall pronoun frequency between \"Little Women\" and \"Little Men.\"\n",
        "- **Support the Alternative Hypothesis (H1):** The data strongly supports the alternative hypothesis, indicating significant differences in overall pronoun usage between the two texts.\n",
        "\n",
        "**Feminine Pronoun Usage:**\n",
        "- **Fail to Reject the Null Hypothesis (H0):** We cannot reject the null hypothesis for feminine pronoun usage. This means that, statistically, there is no significant difference in the frequency of feminine pronouns between \"Little Women\" and \"Little Men.\"\n",
        "\n",
        "### Addressing the Hypotheses\n",
        "\n",
        "**Hypothesis 2: Significant Difference in Pronoun Usage Between \"Little Women\" and \"Little Men\"**\n",
        "- **Overall Pronouns:** The results confirm a significant difference in overall pronoun usage, supporting the hypothesis that the narrative perspective and thematic focus influence pronoun usage patterns.\n",
        "- **Feminine Pronouns:** The results indicate no significant difference in feminine pronoun usage, suggesting that both texts use feminine pronouns similarly, despite their different narrative focuses.\n",
        "\n",
        "### Visualization Support\n",
        "\n",
        "The bar chart provided earlier supports these findings:\n",
        "\n",
        "- **Feminine Pronouns:** \"Little Men\" shows higher frequencies for feminine pronouns, but the statistical test indicates this difference is not significant.\n",
        "- **Overall Pronouns:** The chart and statistical test together highlight significant differences in overall pronoun usage, particularly in the distribution of masculine and feminine pronouns.\n"
      ],
      "metadata": {
        "id": "e5Iex8HKOmkR"
      }
    },
    {
      "cell_type": "markdown",
      "source": [],
      "metadata": {
        "id": "2VrrBfzsOyxa"
      }
    },
    {
      "cell_type": "markdown",
      "source": [
        "## Conclusion\n",
        "\n",
        "\n",
        "Our study looked at the differences in pronoun usage between \"Little Women,\" \"Little Men,\" and \"Moby-Dick\" to see how gender and narrative perspective influenced language in the mid-1800s. Here's what we found:\n"
      ],
      "metadata": {
        "id": "3WWwSiTAChjU"
      }
    },
    {
      "cell_type": "markdown",
      "source": [
        "\n",
        "\n",
        "### Hypotheses\n",
        "\n",
        "**Hypothesis 1: Author Gender Influences Pronoun Usage**\n",
        "- We thought the gender of the authors would significantly influence pronoun usage in \"Moby-Dick\" and \"Little Women.\" Specifically, we expected \"Little Women\" to have more feminine pronouns and \"Moby-Dick\" to have more masculine pronouns.\n",
        "\n",
        "**Hypothesis 2: Gender Narration Perspective Impacts Pronoun Usage**\n",
        "- We also believed that pronoun usage would differ between \"Little Women\" and \"Little Men,\" expecting \"Little Women\" to differ significantly from \"Little Men\" because of its female perspective.\n",
        "\n",
        "#### Overall Pronoun Usage\n",
        "\n",
        "**Chi-Squared Test**\n",
        "- **Chi2 Statistic:** 1947.796335480638\n",
        "- **P-value:** 0.0\n",
        "\n",
        "There is a significant difference in overall pronoun usage between \"Little Women\", \"Moby-Dick\" and \"Little Men.\" This supports our idea that different narrative focuses lead to different pronoun usage patterns.\n",
        "\n",
        "### Little Women vs. Moby-Dick\n",
        "\n",
        "#### Overall Pronoun Usage\n",
        "\n",
        "- **Chi2 Statistic:** 607.79\n",
        "- **P-value:** 1.0457e-132\n",
        "\n",
        "Comparing \"Little Women\" and \"Moby-Dick,\" we found a significant difference in pronoun usage. \"Moby-Dick\" has more masculine pronouns, while \"Little Women\" has more feminine pronouns, which aligns with the different perspectives of the authors.\n",
        "\n",
        "#### Feminine Pronoun Usage\n",
        "\n",
        "- **Chi2 Statistic:** 33.23\n",
        "- **P-value:** 8.1948e-09\n",
        "\n",
        "For feminine pronouns, there's a clear difference between \"Little Women\" and \"Moby-Dick.\" \"Little Women\" uses more feminine pronouns, reflecting its focus on female experiences.\n",
        "\n",
        "### Little Women vs. Little Men\n",
        "\n",
        "#### Overall Pronoun Usage\n",
        "\n",
        "- **Chi2 Statistic:** 902.28\n",
        "- **P-value:** 1.1794e-196\n",
        "\n",
        "There is a significant difference in overall pronoun usage between \"Little Women\" and \"Little Men,\" showing that different narrative perspectives and themes lead to different pronoun usage.\n",
        "\n",
        "#### Feminine Pronoun Usage\n",
        "\n",
        "- **Chi2 Statistic:** 2.63\n",
        "- **P-value:** 0.1045\n",
        "\n",
        "For feminine pronouns, there is no significant difference between \"Little Women\" and \"Little Men.\" This suggests both texts use feminine pronouns in similar ways, despite their different focuses.\n",
        "\n",
        "### Notable Absence of Masculine Object Pronouns\n",
        "\n",
        "One interesting finding is the lack of masculine object pronouns in all three works. Masculine object pronouns include \"him\" and \"his\" (when used as objects). This absence might reflect the narrative styles and thematic focuses of the authors, as well as the societal norms of the mid-1800s that influenced their writing.\n",
        "\n",
        "### Implications of 1800s Gendered Writing\n",
        "\n",
        "These findings show how gender and narrative perspective influenced writing in the mid-1800s. \"Moby-Dick\" by Herman Melville, with its higher use of masculine pronouns, reflects a male-centric view typical of that era. Louisa May Alcott's \"Little Women\" and \"Little Men,\" on the other hand, show a more balanced use of feminine and masculine pronouns, highlighting female experiences even while addressing male perspectives in \"Little Men.\"\n",
        "\n",
        "This analysis helps us understand the historical context of gender representation in literature. The significant differences in pronoun usage reveal how authors' gender and societal norms shaped their writing. These insights are valuable for today's discussions about gender bias in media and literature, showing how historical gender roles have influenced language and storytelling.\n",
        "\n",
        "By examining these texts, we can better appreciate how gendered language was shaped by cultural contexts, providing a basis for addressing and challenging gender biases in modern literature and media.\n"
      ],
      "metadata": {
        "id": "oNK0dT-ACiqm"
      }
    },
    {
      "cell_type": "markdown",
      "source": [
        "## References\n",
        "1. https://phys.org/news/2018-02-professor-big-history-gender-fiction.html\n",
        "\n",
        "2. http://gendernovels.digitalhumanitiesmit.org/info/subject_object_pronoun_analysis\n",
        "\n",
        "3. With help from [Gemini](https://gemini.google.com/)"
      ],
      "metadata": {
        "id": "HO67NM4gRndd"
      }
    },
    {
      "cell_type": "code",
      "source": [],
      "metadata": {
        "id": "wQcKsLqLEK3O"
      },
      "execution_count": null,
      "outputs": []
    }
  ]
}