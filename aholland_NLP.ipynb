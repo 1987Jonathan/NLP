{
  "nbformat": 4,
  "nbformat_minor": 0,
  "metadata": {
    "colab": {
      "provenance": [],
      "include_colab_link": true
    },
    "kernelspec": {
      "name": "python3",
      "display_name": "Python 3"
    },
    "language_info": {
      "name": "python"
    }
  },
  "cells": [
    {
      "cell_type": "markdown",
      "metadata": {
        "id": "view-in-github",
        "colab_type": "text"
      },
      "source": [
        "<a href=\"https://colab.research.google.com/github/1987Jonathan/NLP/blob/main/aholland_NLP.ipynb\" target=\"_parent\"><img src=\"https://colab.research.google.com/assets/colab-badge.svg\" alt=\"Open In Colab\"/></a>"
      ]
    },
    {
      "cell_type": "markdown",
      "source": [
        "# Pronoun Usage in Historical Texts"
      ],
      "metadata": {
        "id": "Z6WNd1bKmV1E"
      }
    },
    {
      "cell_type": "markdown",
      "source": [
        "## Introduction\n",
        "\n",
        "In this study, we investigate whether there is a statistically significant difference between the frequencies of subject and object pronouns for feminine and masculine personal pronouns in historical texts. Additionally, we examine whether the gender of the authors has a meaningful impact on these results. This analysis will provide insights into gender bias and representation in literature from the mid-19th century.\n",
        "\n"
      ],
      "metadata": {
        "id": "NHR3ILkDmZLK"
      }
    },
    {
      "cell_type": "markdown",
      "source": [
        "## Methodology\n",
        "\n",
        "### Datasets\n",
        "\n",
        "1. **Moby-Dick** (1851)  by Herman Melville (male-identified author)\n",
        "2. **Little Women** (1868-1869) by Louisa May Alcott (female-identified author)\n",
        "3. **Little Men** (1871) by Louisa May Alcott (female-identified author)a\n",
        "\n",
        "### Technologies\n",
        "\n",
        "- **SparkNLP**: An open-source library providing advanced natural language processing capabilities.\n",
        "- **PySpark**: A Python API for Apache Spark, enabling large-scale data processing.\n",
        "\n",
        "### Data Processing\n",
        "\n",
        "1. **Text Preprocessing**: Clean and tokenize the text to extract individual words.\n",
        "2. **Part-of-Speech Tagging**: Use SparkNLP to annotate the text, identifying personal pronouns and their grammatical roles.\n",
        "3. **Pronoun Frequency Analysis**: Calculate the frequencies of subject (e.g., he, she) and object (e.g., him, her) pronouns.\n",
        "4. **Statistical Testing**: Perform chi-square tests to determine if differences in pronoun frequencies are statistically significant.\n"
      ],
      "metadata": {
        "id": "NKsffpJmmbVd"
      }
    },
    {
      "cell_type": "markdown",
      "source": [
        "## Hypothesis\n",
        "\n",
        "We hypothesize that the gender of the authors significantly influences pronoun usage in the texts \"Moby-Dick\" and \"Little Women,\" both published in the mid-1850s. We expect \"Little Women\" to exhibit a higher frequency of feminine pronouns, while \"Moby-Dick\" will have a higher frequency of masculine pronouns. The mid-1850s is a relevant period because it provides a historical context where gender roles and biases were more pronounced in literature while the \"gender\" representation in writing was still roughly balanced (40% women to 60% men).\n",
        "\n",
        "Furthermore, by comparing \"Little Women\" and \"Little Men,\" we hypothesize that pronoun usage will statistically vary. We presume that \"Little Women,\" written from a female perspective, will differ significantly from \"Little Men,\" which is not from a female perspective.\n"
      ],
      "metadata": {
        "id": "K46oyEclmfil"
      }
    },
    {
      "cell_type": "markdown",
      "source": [
        "## Evaluation\n"
      ],
      "metadata": {
        "id": "SdqXcAbhmjeU"
      }
    },
    {
      "cell_type": "markdown",
      "source": [
        "### Text Preprocessing and Annotation\n"
      ],
      "metadata": {
        "id": "d6gNBIJPml2C"
      }
    },
    {
      "cell_type": "markdown",
      "source": [
        "1: Install and Initialize SparkNLP"
      ],
      "metadata": {
        "id": "GIu7XOx4l3cx"
      }
    },
    {
      "cell_type": "code",
      "execution_count": 1,
      "metadata": {
        "colab": {
          "base_uri": "https://localhost:8080/"
        },
        "id": "2ySyHoeY5z0p",
        "outputId": "e86c880d-399f-40ca-9bf7-d2dc1bf6b2f0"
      },
      "outputs": [
        {
          "output_type": "stream",
          "name": "stdout",
          "text": [
            "--2024-07-23 22:14:06--  http://setup.johnsnowlabs.com/colab.sh\n",
            "Resolving setup.johnsnowlabs.com (setup.johnsnowlabs.com)... 3.86.22.73\n",
            "Connecting to setup.johnsnowlabs.com (setup.johnsnowlabs.com)|3.86.22.73|:80... connected.\n",
            "HTTP request sent, awaiting response... 302 Moved Temporarily\n",
            "Location: https://raw.githubusercontent.com/JohnSnowLabs/spark-nlp/master/scripts/colab_setup.sh [following]\n",
            "--2024-07-23 22:14:06--  https://raw.githubusercontent.com/JohnSnowLabs/spark-nlp/master/scripts/colab_setup.sh\n",
            "Resolving raw.githubusercontent.com (raw.githubusercontent.com)... 185.199.110.133, 185.199.108.133, 185.199.111.133, ...\n",
            "Connecting to raw.githubusercontent.com (raw.githubusercontent.com)|185.199.110.133|:443... connected.\n",
            "HTTP request sent, awaiting response... 200 OK\n",
            "Length: 1191 (1.2K) [text/plain]\n",
            "Saving to: ‘STDOUT’\n",
            "\n",
            "-                   100%[===================>]   1.16K  --.-KB/s    in 0s      \n",
            "\n",
            "2024-07-23 22:14:06 (66.5 MB/s) - written to stdout [1191/1191]\n",
            "\n",
            "Installing PySpark 3.2.3 and Spark NLP 5.4.1\n",
            "setup Colab for PySpark 3.2.3 and Spark NLP 5.4.1\n",
            "\u001b[2K     \u001b[90m━━━━━━━━━━━━━━━━━━━━━━━━━━━━━━━━━━━━━━━━\u001b[0m \u001b[32m281.5/281.5 MB\u001b[0m \u001b[31m2.8 MB/s\u001b[0m eta \u001b[36m0:00:00\u001b[0m\n",
            "\u001b[?25h  Preparing metadata (setup.py) ... \u001b[?25l\u001b[?25hdone\n",
            "\u001b[2K     \u001b[90m━━━━━━━━━━━━━━━━━━━━━━━━━━━━━━━━━━━━━━━━\u001b[0m \u001b[32m579.2/579.2 kB\u001b[0m \u001b[31m19.0 MB/s\u001b[0m eta \u001b[36m0:00:00\u001b[0m\n",
            "\u001b[2K     \u001b[90m━━━━━━━━━━━━━━━━━━━━━━━━━━━━━━━━━━━━━━━━\u001b[0m \u001b[32m199.7/199.7 kB\u001b[0m \u001b[31m9.9 MB/s\u001b[0m eta \u001b[36m0:00:00\u001b[0m\n",
            "\u001b[?25h  Building wheel for pyspark (setup.py) ... \u001b[?25l\u001b[?25hdone\n"
          ]
        }
      ],
      "source": [
        "!wget http://setup.johnsnowlabs.com/colab.sh -O - | bash"
      ]
    },
    {
      "cell_type": "markdown",
      "source": [
        "Installing SparkNLP"
      ],
      "metadata": {
        "id": "xOWRhX9Q6B9X"
      }
    },
    {
      "cell_type": "code",
      "source": [
        "import sparknlp\n",
        "spark = sparknlp.start()\n",
        "\n",
        "from sparknlp.pretrained import PretrainedPipeline\n"
      ],
      "metadata": {
        "id": "9dxYo60w5_Rb"
      },
      "execution_count": 2,
      "outputs": []
    },
    {
      "cell_type": "code",
      "source": [
        "pipeline = PretrainedPipeline(\"explain_document_ml\")"
      ],
      "metadata": {
        "colab": {
          "base_uri": "https://localhost:8080/"
        },
        "id": "WX3Def-t-CGX",
        "outputId": "dba3142f-abe0-43cd-a5c4-4d4e44401392"
      },
      "execution_count": 3,
      "outputs": [
        {
          "output_type": "stream",
          "name": "stdout",
          "text": [
            "explain_document_ml download started this may take some time.\n",
            "Approx size to download 9 MB\n",
            "[OK!]\n"
          ]
        }
      ]
    },
    {
      "cell_type": "markdown",
      "source": [
        "2: Annotate Sample Sentences"
      ],
      "metadata": {
        "id": "yHboO7dTsDsV"
      }
    },
    {
      "cell_type": "code",
      "source": [
        "hls = [\n",
        "    # Subject pronouns\n",
        "    \"She ran\",\n",
        "    \"He ran\",\n",
        "    \"I ran\",\n",
        "    \"We ran\",\n",
        "    \"They ran\",\n",
        "    \"You ran\",\n",
        "    \"It ran\",\n",
        "\n",
        "    # Object pronouns\n",
        "    \"I saw her\",\n",
        "    \"I saw him\",\n",
        "    \"I saw them\",\n",
        "    \"I saw us\",\n",
        "    \"I saw you\",\n",
        "    \"I saw it\",\n",
        "\n",
        "    # Possessive pronouns (used as objects)\n",
        "    \"I know her name\",\n",
        "    \"I know his name\",\n",
        "    \"I know their name\",\n",
        "    \"I know our name\",\n",
        "    \"I know your name\",\n",
        "    \"I know its name\",\n",
        "\n",
        "    # Possessive pronouns (used as subjects)\n",
        "    \"That is hers\",\n",
        "    \"That is his\",\n",
        "    \"That is theirs\",\n",
        "    \"That is ours\",\n",
        "    \"That is yours\",\n",
        "    \"That is its\",\n",
        "\n",
        "    # Reflexive pronouns\n",
        "    \"She saw herself\",\n",
        "    \"He saw himself\",\n",
        "    \"I saw myself\",\n",
        "    \"We saw ourselves\",\n",
        "    \"They saw themselves\",\n",
        "    \"You saw yourself\",\n",
        "    \"It saw itself\"\n",
        "]\n"
      ],
      "metadata": {
        "id": "uDC93YLC-CQV"
      },
      "execution_count": 4,
      "outputs": []
    },
    {
      "cell_type": "code",
      "source": [
        "dfs = [pipeline.annotate(hl) for hl in hls]"
      ],
      "metadata": {
        "id": "iPMDmrar-S6C"
      },
      "execution_count": 5,
      "outputs": []
    },
    {
      "cell_type": "code",
      "source": [
        "dfs"
      ],
      "metadata": {
        "collapsed": true,
        "id": "-RBlgQV9-S_h",
        "colab": {
          "base_uri": "https://localhost:8080/"
        },
        "outputId": "968db40f-f46c-4c81-e7a0-230e5effa17d"
      },
      "execution_count": 6,
      "outputs": [
        {
          "output_type": "execute_result",
          "data": {
            "text/plain": [
              "[{'document': ['She ran'],\n",
              "  'spell': ['She', 'ran'],\n",
              "  'pos': ['PRP', 'VBD'],\n",
              "  'lemmas': ['She', 'run'],\n",
              "  'token': ['She', 'ran'],\n",
              "  'stems': ['she', 'ran'],\n",
              "  'sentence': ['She ran']},\n",
              " {'document': ['He ran'],\n",
              "  'spell': ['He', 'ran'],\n",
              "  'pos': ['PRP', 'VBD'],\n",
              "  'lemmas': ['He', 'run'],\n",
              "  'token': ['He', 'ran'],\n",
              "  'stems': ['he', 'ran'],\n",
              "  'sentence': ['He ran']},\n",
              " {'document': ['I ran'],\n",
              "  'spell': ['I', 'ran'],\n",
              "  'pos': ['PRP', 'VBD'],\n",
              "  'lemmas': ['I', 'run'],\n",
              "  'token': ['I', 'ran'],\n",
              "  'stems': ['i', 'ran'],\n",
              "  'sentence': ['I ran']},\n",
              " {'document': ['We ran'],\n",
              "  'spell': ['We', 'ran'],\n",
              "  'pos': ['PRP', 'VBD'],\n",
              "  'lemmas': ['We', 'run'],\n",
              "  'token': ['We', 'ran'],\n",
              "  'stems': ['we', 'ran'],\n",
              "  'sentence': ['We ran']},\n",
              " {'document': ['They ran'],\n",
              "  'spell': ['They', 'ran'],\n",
              "  'pos': ['PRP', 'VBD'],\n",
              "  'lemmas': ['They', 'run'],\n",
              "  'token': ['They', 'ran'],\n",
              "  'stems': ['thei', 'ran'],\n",
              "  'sentence': ['They ran']},\n",
              " {'document': ['You ran'],\n",
              "  'spell': ['You', 'ran'],\n",
              "  'pos': ['PRP', 'VBD'],\n",
              "  'lemmas': ['You', 'run'],\n",
              "  'token': ['You', 'ran'],\n",
              "  'stems': ['you', 'ran'],\n",
              "  'sentence': ['You ran']},\n",
              " {'document': ['It ran'],\n",
              "  'spell': ['It', 'ran'],\n",
              "  'pos': ['PRP', 'VBD'],\n",
              "  'lemmas': ['It', 'run'],\n",
              "  'token': ['It', 'ran'],\n",
              "  'stems': ['it', 'ran'],\n",
              "  'sentence': ['It ran']},\n",
              " {'document': ['I saw her'],\n",
              "  'spell': ['I', 'saw', 'her'],\n",
              "  'pos': ['PRP', 'VBD', 'PRP$'],\n",
              "  'lemmas': ['I', 'see', 'she'],\n",
              "  'token': ['I', 'saw', 'her'],\n",
              "  'stems': ['i', 'saw', 'her'],\n",
              "  'sentence': ['I saw her']},\n",
              " {'document': ['I saw him'],\n",
              "  'spell': ['I', 'saw', 'him'],\n",
              "  'pos': ['PRP', 'VBD', 'PRP'],\n",
              "  'lemmas': ['I', 'see', 'he'],\n",
              "  'token': ['I', 'saw', 'him'],\n",
              "  'stems': ['i', 'saw', 'him'],\n",
              "  'sentence': ['I saw him']},\n",
              " {'document': ['I saw them'],\n",
              "  'spell': ['I', 'saw', 'them'],\n",
              "  'pos': ['PRP', 'VBD', 'PRP'],\n",
              "  'lemmas': ['I', 'see', 'they'],\n",
              "  'token': ['I', 'saw', 'them'],\n",
              "  'stems': ['i', 'saw', 'them'],\n",
              "  'sentence': ['I saw them']},\n",
              " {'document': ['I saw us'],\n",
              "  'spell': ['I', 'saw', 'us'],\n",
              "  'pos': ['PRP', 'VBD', 'PRP'],\n",
              "  'lemmas': ['I', 'see', 'we'],\n",
              "  'token': ['I', 'saw', 'us'],\n",
              "  'stems': ['i', 'saw', 'u'],\n",
              "  'sentence': ['I saw us']},\n",
              " {'document': ['I saw you'],\n",
              "  'spell': ['I', 'saw', 'you'],\n",
              "  'pos': ['PRP', 'VBD', 'PRP'],\n",
              "  'lemmas': ['I', 'see', 'you'],\n",
              "  'token': ['I', 'saw', 'you'],\n",
              "  'stems': ['i', 'saw', 'you'],\n",
              "  'sentence': ['I saw you']},\n",
              " {'document': ['I saw it'],\n",
              "  'spell': ['I', 'saw', 'it'],\n",
              "  'pos': ['PRP', 'VBD', 'PRP'],\n",
              "  'lemmas': ['I', 'see', 'it'],\n",
              "  'token': ['I', 'saw', 'it'],\n",
              "  'stems': ['i', 'saw', 'it'],\n",
              "  'sentence': ['I saw it']},\n",
              " {'document': ['I know her name'],\n",
              "  'spell': ['I', 'know', 'her', 'name'],\n",
              "  'pos': ['PRP', 'VBP', 'PRP', 'NN'],\n",
              "  'lemmas': ['I', 'know', 'she', 'name'],\n",
              "  'token': ['I', 'know', 'her', 'name'],\n",
              "  'stems': ['i', 'know', 'her', 'name'],\n",
              "  'sentence': ['I know her name']},\n",
              " {'document': ['I know his name'],\n",
              "  'spell': ['I', 'know', 'his', 'name'],\n",
              "  'pos': ['PRP', 'VBP', 'PRP$', 'NN'],\n",
              "  'lemmas': ['I', 'know', 'he', 'name'],\n",
              "  'token': ['I', 'know', 'his', 'name'],\n",
              "  'stems': ['i', 'know', 'hi', 'name'],\n",
              "  'sentence': ['I know his name']},\n",
              " {'document': ['I know their name'],\n",
              "  'spell': ['I', 'know', 'their', 'name'],\n",
              "  'pos': ['PRP', 'VBP', 'PRP$', 'NN'],\n",
              "  'lemmas': ['I', 'know', 'they', 'name'],\n",
              "  'token': ['I', 'know', 'their', 'name'],\n",
              "  'stems': ['i', 'know', 'their', 'name'],\n",
              "  'sentence': ['I know their name']},\n",
              " {'document': ['I know our name'],\n",
              "  'spell': ['I', 'know', 'our', 'name'],\n",
              "  'pos': ['PRP', 'VBP', 'PRP$', 'NN'],\n",
              "  'lemmas': ['I', 'know', 'we', 'name'],\n",
              "  'token': ['I', 'know', 'our', 'name'],\n",
              "  'stems': ['i', 'know', 'our', 'name'],\n",
              "  'sentence': ['I know our name']},\n",
              " {'document': ['I know your name'],\n",
              "  'spell': ['I', 'know', 'your', 'name'],\n",
              "  'pos': ['PRP', 'VBP', 'PRP$', 'NN'],\n",
              "  'lemmas': ['I', 'know', 'you', 'name'],\n",
              "  'token': ['I', 'know', 'your', 'name'],\n",
              "  'stems': ['i', 'know', 'your', 'name'],\n",
              "  'sentence': ['I know your name']},\n",
              " {'document': ['I know its name'],\n",
              "  'spell': ['I', 'know', 'its', 'name'],\n",
              "  'pos': ['PRP', 'VBP', 'PRP$', 'NN'],\n",
              "  'lemmas': ['I', 'know', 'it', 'name'],\n",
              "  'token': ['I', 'know', 'its', 'name'],\n",
              "  'stems': ['i', 'know', 'it', 'name'],\n",
              "  'sentence': ['I know its name']},\n",
              " {'document': ['That is hers'],\n",
              "  'spell': ['That', 'is', 'hers'],\n",
              "  'pos': ['DT', 'VBZ', 'NNS'],\n",
              "  'lemmas': ['That', 'be', 'hers'],\n",
              "  'token': ['That', 'is', 'hers'],\n",
              "  'stems': ['that', 'i', 'her'],\n",
              "  'sentence': ['That is hers']},\n",
              " {'document': ['That is his'],\n",
              "  'spell': ['That', 'is', 'his'],\n",
              "  'pos': ['DT', 'VBZ', 'PRP$'],\n",
              "  'lemmas': ['That', 'be', 'he'],\n",
              "  'token': ['That', 'is', 'his'],\n",
              "  'stems': ['that', 'i', 'hi'],\n",
              "  'sentence': ['That is his']},\n",
              " {'document': ['That is theirs'],\n",
              "  'spell': ['That', 'is', 'theirs'],\n",
              "  'pos': ['DT', 'VBZ', 'NNS'],\n",
              "  'lemmas': ['That', 'be', 'theirs'],\n",
              "  'token': ['That', 'is', 'theirs'],\n",
              "  'stems': ['that', 'i', 'their'],\n",
              "  'sentence': ['That is theirs']},\n",
              " {'document': ['That is ours'],\n",
              "  'spell': ['That', 'is', 'ours'],\n",
              "  'pos': ['DT', 'VBZ', 'NNS'],\n",
              "  'lemmas': ['That', 'be', 'ours'],\n",
              "  'token': ['That', 'is', 'ours'],\n",
              "  'stems': ['that', 'i', 'our'],\n",
              "  'sentence': ['That is ours']},\n",
              " {'document': ['That is yours'],\n",
              "  'spell': ['That', 'is', 'yours'],\n",
              "  'pos': ['DT', 'VBZ', 'NNS'],\n",
              "  'lemmas': ['That', 'be', 'yours'],\n",
              "  'token': ['That', 'is', 'yours'],\n",
              "  'stems': ['that', 'i', 'your'],\n",
              "  'sentence': ['That is yours']},\n",
              " {'document': ['That is its'],\n",
              "  'spell': ['That', 'is', 'its'],\n",
              "  'pos': ['DT', 'VBZ', 'PRP$'],\n",
              "  'lemmas': ['That', 'be', 'it'],\n",
              "  'token': ['That', 'is', 'its'],\n",
              "  'stems': ['that', 'i', 'it'],\n",
              "  'sentence': ['That is its']},\n",
              " {'document': ['She saw herself'],\n",
              "  'spell': ['She', 'saw', 'herself'],\n",
              "  'pos': ['PRP', 'VBD', 'PRP'],\n",
              "  'lemmas': ['She', 'see', 'herself'],\n",
              "  'token': ['She', 'saw', 'herself'],\n",
              "  'stems': ['she', 'saw', 'herself'],\n",
              "  'sentence': ['She saw herself']},\n",
              " {'document': ['He saw himself'],\n",
              "  'spell': ['He', 'saw', 'himself'],\n",
              "  'pos': ['PRP', 'VBD', 'PRP'],\n",
              "  'lemmas': ['He', 'see', 'himself'],\n",
              "  'token': ['He', 'saw', 'himself'],\n",
              "  'stems': ['he', 'saw', 'himself'],\n",
              "  'sentence': ['He saw himself']},\n",
              " {'document': ['I saw myself'],\n",
              "  'spell': ['I', 'saw', 'myself'],\n",
              "  'pos': ['PRP', 'VBD', 'PRP'],\n",
              "  'lemmas': ['I', 'see', 'myself'],\n",
              "  'token': ['I', 'saw', 'myself'],\n",
              "  'stems': ['i', 'saw', 'myself'],\n",
              "  'sentence': ['I saw myself']},\n",
              " {'document': ['We saw ourselves'],\n",
              "  'spell': ['We', 'saw', 'ourselves'],\n",
              "  'pos': ['PRP', 'VBD', 'PRP'],\n",
              "  'lemmas': ['We', 'see', 'ourselves'],\n",
              "  'token': ['We', 'saw', 'ourselves'],\n",
              "  'stems': ['we', 'saw', 'ourselv'],\n",
              "  'sentence': ['We saw ourselves']},\n",
              " {'document': ['They saw themselves'],\n",
              "  'spell': ['They', 'saw', 'themselves'],\n",
              "  'pos': ['PRP', 'VBD', 'PRP'],\n",
              "  'lemmas': ['They', 'see', 'themselves'],\n",
              "  'token': ['They', 'saw', 'themselves'],\n",
              "  'stems': ['thei', 'saw', 'themselv'],\n",
              "  'sentence': ['They saw themselves']},\n",
              " {'document': ['You saw yourself'],\n",
              "  'spell': ['You', 'saw', 'yourself'],\n",
              "  'pos': ['PRP', 'VBD', 'PRP'],\n",
              "  'lemmas': ['You', 'see', 'yourself'],\n",
              "  'token': ['You', 'saw', 'yourself'],\n",
              "  'stems': ['you', 'saw', 'yourself'],\n",
              "  'sentence': ['You saw yourself']},\n",
              " {'document': ['It saw itself'],\n",
              "  'spell': ['It', 'saw', 'itself'],\n",
              "  'pos': ['PRP', 'VBD', 'PRP'],\n",
              "  'lemmas': ['It', 'see', 'itself'],\n",
              "  'token': ['It', 'saw', 'itself'],\n",
              "  'stems': ['it', 'saw', 'itself'],\n",
              "  'sentence': ['It saw itself']}]"
            ]
          },
          "metadata": {},
          "execution_count": 6
        }
      ]
    },
    {
      "cell_type": "code",
      "source": [
        "tok_tag = [(df['token'],df['pos']) for df in dfs]"
      ],
      "metadata": {
        "id": "ali61V58-TCl"
      },
      "execution_count": 7,
      "outputs": []
    },
    {
      "cell_type": "code",
      "source": [
        "tok_tag"
      ],
      "metadata": {
        "collapsed": true,
        "id": "ZNJPfHY8-TFf",
        "colab": {
          "base_uri": "https://localhost:8080/"
        },
        "outputId": "dab43b3c-14a7-4cbb-b2e9-b7234f222625"
      },
      "execution_count": 8,
      "outputs": [
        {
          "output_type": "execute_result",
          "data": {
            "text/plain": [
              "[(['She', 'ran'], ['PRP', 'VBD']),\n",
              " (['He', 'ran'], ['PRP', 'VBD']),\n",
              " (['I', 'ran'], ['PRP', 'VBD']),\n",
              " (['We', 'ran'], ['PRP', 'VBD']),\n",
              " (['They', 'ran'], ['PRP', 'VBD']),\n",
              " (['You', 'ran'], ['PRP', 'VBD']),\n",
              " (['It', 'ran'], ['PRP', 'VBD']),\n",
              " (['I', 'saw', 'her'], ['PRP', 'VBD', 'PRP$']),\n",
              " (['I', 'saw', 'him'], ['PRP', 'VBD', 'PRP']),\n",
              " (['I', 'saw', 'them'], ['PRP', 'VBD', 'PRP']),\n",
              " (['I', 'saw', 'us'], ['PRP', 'VBD', 'PRP']),\n",
              " (['I', 'saw', 'you'], ['PRP', 'VBD', 'PRP']),\n",
              " (['I', 'saw', 'it'], ['PRP', 'VBD', 'PRP']),\n",
              " (['I', 'know', 'her', 'name'], ['PRP', 'VBP', 'PRP', 'NN']),\n",
              " (['I', 'know', 'his', 'name'], ['PRP', 'VBP', 'PRP$', 'NN']),\n",
              " (['I', 'know', 'their', 'name'], ['PRP', 'VBP', 'PRP$', 'NN']),\n",
              " (['I', 'know', 'our', 'name'], ['PRP', 'VBP', 'PRP$', 'NN']),\n",
              " (['I', 'know', 'your', 'name'], ['PRP', 'VBP', 'PRP$', 'NN']),\n",
              " (['I', 'know', 'its', 'name'], ['PRP', 'VBP', 'PRP$', 'NN']),\n",
              " (['That', 'is', 'hers'], ['DT', 'VBZ', 'NNS']),\n",
              " (['That', 'is', 'his'], ['DT', 'VBZ', 'PRP$']),\n",
              " (['That', 'is', 'theirs'], ['DT', 'VBZ', 'NNS']),\n",
              " (['That', 'is', 'ours'], ['DT', 'VBZ', 'NNS']),\n",
              " (['That', 'is', 'yours'], ['DT', 'VBZ', 'NNS']),\n",
              " (['That', 'is', 'its'], ['DT', 'VBZ', 'PRP$']),\n",
              " (['She', 'saw', 'herself'], ['PRP', 'VBD', 'PRP']),\n",
              " (['He', 'saw', 'himself'], ['PRP', 'VBD', 'PRP']),\n",
              " (['I', 'saw', 'myself'], ['PRP', 'VBD', 'PRP']),\n",
              " (['We', 'saw', 'ourselves'], ['PRP', 'VBD', 'PRP']),\n",
              " (['They', 'saw', 'themselves'], ['PRP', 'VBD', 'PRP']),\n",
              " (['You', 'saw', 'yourself'], ['PRP', 'VBD', 'PRP']),\n",
              " (['It', 'saw', 'itself'], ['PRP', 'VBD', 'PRP'])]"
            ]
          },
          "metadata": {},
          "execution_count": 8
        }
      ]
    },
    {
      "cell_type": "code",
      "source": [
        "zips = [list(zip(tt[0], tt[1])) for tt in tok_tag]"
      ],
      "metadata": {
        "id": "7YP4COs7-TIJ"
      },
      "execution_count": 9,
      "outputs": []
    },
    {
      "cell_type": "code",
      "source": [
        "zips"
      ],
      "metadata": {
        "collapsed": true,
        "id": "RMVhLbF--TKv",
        "colab": {
          "base_uri": "https://localhost:8080/"
        },
        "outputId": "53b9eddf-883f-46c8-d206-d78a4af3000c"
      },
      "execution_count": 10,
      "outputs": [
        {
          "output_type": "execute_result",
          "data": {
            "text/plain": [
              "[[('She', 'PRP'), ('ran', 'VBD')],\n",
              " [('He', 'PRP'), ('ran', 'VBD')],\n",
              " [('I', 'PRP'), ('ran', 'VBD')],\n",
              " [('We', 'PRP'), ('ran', 'VBD')],\n",
              " [('They', 'PRP'), ('ran', 'VBD')],\n",
              " [('You', 'PRP'), ('ran', 'VBD')],\n",
              " [('It', 'PRP'), ('ran', 'VBD')],\n",
              " [('I', 'PRP'), ('saw', 'VBD'), ('her', 'PRP$')],\n",
              " [('I', 'PRP'), ('saw', 'VBD'), ('him', 'PRP')],\n",
              " [('I', 'PRP'), ('saw', 'VBD'), ('them', 'PRP')],\n",
              " [('I', 'PRP'), ('saw', 'VBD'), ('us', 'PRP')],\n",
              " [('I', 'PRP'), ('saw', 'VBD'), ('you', 'PRP')],\n",
              " [('I', 'PRP'), ('saw', 'VBD'), ('it', 'PRP')],\n",
              " [('I', 'PRP'), ('know', 'VBP'), ('her', 'PRP'), ('name', 'NN')],\n",
              " [('I', 'PRP'), ('know', 'VBP'), ('his', 'PRP$'), ('name', 'NN')],\n",
              " [('I', 'PRP'), ('know', 'VBP'), ('their', 'PRP$'), ('name', 'NN')],\n",
              " [('I', 'PRP'), ('know', 'VBP'), ('our', 'PRP$'), ('name', 'NN')],\n",
              " [('I', 'PRP'), ('know', 'VBP'), ('your', 'PRP$'), ('name', 'NN')],\n",
              " [('I', 'PRP'), ('know', 'VBP'), ('its', 'PRP$'), ('name', 'NN')],\n",
              " [('That', 'DT'), ('is', 'VBZ'), ('hers', 'NNS')],\n",
              " [('That', 'DT'), ('is', 'VBZ'), ('his', 'PRP$')],\n",
              " [('That', 'DT'), ('is', 'VBZ'), ('theirs', 'NNS')],\n",
              " [('That', 'DT'), ('is', 'VBZ'), ('ours', 'NNS')],\n",
              " [('That', 'DT'), ('is', 'VBZ'), ('yours', 'NNS')],\n",
              " [('That', 'DT'), ('is', 'VBZ'), ('its', 'PRP$')],\n",
              " [('She', 'PRP'), ('saw', 'VBD'), ('herself', 'PRP')],\n",
              " [('He', 'PRP'), ('saw', 'VBD'), ('himself', 'PRP')],\n",
              " [('I', 'PRP'), ('saw', 'VBD'), ('myself', 'PRP')],\n",
              " [('We', 'PRP'), ('saw', 'VBD'), ('ourselves', 'PRP')],\n",
              " [('They', 'PRP'), ('saw', 'VBD'), ('themselves', 'PRP')],\n",
              " [('You', 'PRP'), ('saw', 'VBD'), ('yourself', 'PRP')],\n",
              " [('It', 'PRP'), ('saw', 'VBD'), ('itself', 'PRP')]]"
            ]
          },
          "metadata": {},
          "execution_count": 10
        }
      ]
    },
    {
      "cell_type": "code",
      "source": [
        "tagged = [\" \".join([\"\".join(word) for word in hl]) for hl in zips]"
      ],
      "metadata": {
        "id": "au6F0pax-TNK"
      },
      "execution_count": 11,
      "outputs": []
    },
    {
      "cell_type": "code",
      "source": [
        "tagged"
      ],
      "metadata": {
        "collapsed": true,
        "id": "yQ6H_r41-TQC",
        "colab": {
          "base_uri": "https://localhost:8080/"
        },
        "outputId": "185a278a-36bf-4e68-f11a-0ffe0d424722"
      },
      "execution_count": 12,
      "outputs": [
        {
          "output_type": "execute_result",
          "data": {
            "text/plain": [
              "['ShePRP ranVBD',\n",
              " 'HePRP ranVBD',\n",
              " 'IPRP ranVBD',\n",
              " 'WePRP ranVBD',\n",
              " 'TheyPRP ranVBD',\n",
              " 'YouPRP ranVBD',\n",
              " 'ItPRP ranVBD',\n",
              " 'IPRP sawVBD herPRP$',\n",
              " 'IPRP sawVBD himPRP',\n",
              " 'IPRP sawVBD themPRP',\n",
              " 'IPRP sawVBD usPRP',\n",
              " 'IPRP sawVBD youPRP',\n",
              " 'IPRP sawVBD itPRP',\n",
              " 'IPRP knowVBP herPRP nameNN',\n",
              " 'IPRP knowVBP hisPRP$ nameNN',\n",
              " 'IPRP knowVBP theirPRP$ nameNN',\n",
              " 'IPRP knowVBP ourPRP$ nameNN',\n",
              " 'IPRP knowVBP yourPRP$ nameNN',\n",
              " 'IPRP knowVBP itsPRP$ nameNN',\n",
              " 'ThatDT isVBZ hersNNS',\n",
              " 'ThatDT isVBZ hisPRP$',\n",
              " 'ThatDT isVBZ theirsNNS',\n",
              " 'ThatDT isVBZ oursNNS',\n",
              " 'ThatDT isVBZ yoursNNS',\n",
              " 'ThatDT isVBZ itsPRP$',\n",
              " 'ShePRP sawVBD herselfPRP',\n",
              " 'HePRP sawVBD himselfPRP',\n",
              " 'IPRP sawVBD myselfPRP',\n",
              " 'WePRP sawVBD ourselvesPRP',\n",
              " 'TheyPRP sawVBD themselvesPRP',\n",
              " 'YouPRP sawVBD yourselfPRP',\n",
              " 'ItPRP sawVBD itselfPRP']"
            ]
          },
          "metadata": {},
          "execution_count": 12
        }
      ]
    },
    {
      "cell_type": "markdown",
      "source": [
        "### 3: Download and Read Texts"
      ],
      "metadata": {
        "id": "G8Q9Wv_MtdcE"
      }
    },
    {
      "cell_type": "code",
      "source": [
        "# Grab the texts from Project Gutenberg\n",
        "\n",
        "!curl \"https://www.gutenberg.org/cache/epub/2701/pg2701.txt\" -o mobydick.txt\n",
        "!curl \"https://www.gutenberg.org/cache/epub/37106/pg37106.txt\" -o littlewomen.txt\n",
        "!curl \"https://www.gutenberg.org/cache/epub/2788/pg2788.txt\" -o littlemen.txt\n"
      ],
      "metadata": {
        "id": "A1r2Zowj-fn0",
        "colab": {
          "base_uri": "https://localhost:8080/"
        },
        "collapsed": true,
        "outputId": "3616afba-cd3a-41a9-b7a0-ff9df9d8c646"
      },
      "execution_count": 42,
      "outputs": [
        {
          "output_type": "stream",
          "name": "stdout",
          "text": [
            "  % Total    % Received % Xferd  Average Speed   Time    Time     Time  Current\n",
            "                                 Dload  Upload   Total   Spent    Left  Speed\n",
            "100 1246k  100 1246k    0     0  1455k      0 --:--:-- --:--:-- --:--:-- 1454k\n",
            "  % Total    % Received % Xferd  Average Speed   Time    Time     Time  Current\n",
            "                                 Dload  Upload   Total   Spent    Left  Speed\n",
            "100 1087k  100 1087k    0     0  1254k      0 --:--:-- --:--:-- --:--:-- 1254k\n",
            "  % Total    % Received % Xferd  Average Speed   Time    Time     Time  Current\n",
            "                                 Dload  Upload   Total   Spent    Left  Speed\n",
            "100  585k  100  585k    0     0   826k      0 --:--:-- --:--:-- --:--:--  825k\n"
          ]
        }
      ]
    },
    {
      "cell_type": "code",
      "source": [
        "mobydick = open('mobydick.txt').read()\n",
        "littlewomen = open('littlewomen.txt').read()\n",
        "littlemen = open('littlemen.txt').read()"
      ],
      "metadata": {
        "id": "9iknDpCz-fqO"
      },
      "execution_count": 53,
      "outputs": []
    },
    {
      "cell_type": "code",
      "source": [
        "print(mobydick[:1000])\n",
        "pipeline.annotate(mobydick[:100])['pos']"
      ],
      "metadata": {
        "colab": {
          "base_uri": "https://localhost:8080/"
        },
        "collapsed": true,
        "id": "XK3Gk24qy19i",
        "outputId": "2c65cec5-71d9-418d-d408-582c7ec9571b"
      },
      "execution_count": 50,
      "outputs": [
        {
          "output_type": "stream",
          "name": "stdout",
          "text": [
            "﻿The Project Gutenberg eBook of Moby Dick; Or, The Whale\n",
            "    \n",
            "This ebook is for the use of anyone anywhere in the United States and\n",
            "most other parts of the world at no cost and with almost no restrictions\n",
            "whatsoever. You may copy it, give it away or re-use it under the terms\n",
            "of the Project Gutenberg License included with this ebook or online\n",
            "at www.gutenberg.org. If you are not located in the United States,\n",
            "you will have to check the laws of the country where you are located\n",
            "before using this eBook.\n",
            "\n",
            "Title: Moby Dick; Or, The Whale\n",
            "\n",
            "Author: Herman Melville\n",
            "\n",
            "Release date: July 1, 2001 [eBook #2701]\n",
            "                Most recently updated: August 18, 2021\n",
            "\n",
            "Language: English\n",
            "\n",
            "Credits: Daniel Lazarus, Jonesey, and David Widger\n",
            "\n",
            "\n",
            "*** START OF THE PROJECT GUTENBERG EBOOK MOBY DICK; OR, THE WHALE ***\n",
            "\n",
            "\n",
            "\n",
            "\n",
            "MOBY-DICK;\n",
            "\n",
            "or, THE WHALE.\n",
            "\n",
            "By Herman Melville\n",
            "\n",
            "\n",
            "\n",
            "CONTENTS\n",
            "\n",
            "ETYMOLOGY.\n",
            "\n",
            "EXTRACTS (Supplied by a Sub-Sub-Librarian).\n",
            "\n",
            "CHAPTER 1. Loomings.\n",
            "\n",
            "CHAPTER 2. The Carpet-Bag.\n",
            "\n",
            "CHAPTER 3. The Spouter-Inn\n"
          ]
        },
        {
          "output_type": "execute_result",
          "data": {
            "text/plain": [
              "['DT',\n",
              " 'NNP',\n",
              " 'NNP',\n",
              " 'NN',\n",
              " 'IN',\n",
              " 'NN',\n",
              " 'NNP',\n",
              " ':',\n",
              " 'CC',\n",
              " ',',\n",
              " 'DT',\n",
              " 'NNP',\n",
              " 'DT',\n",
              " 'NN',\n",
              " 'VBZ',\n",
              " 'IN',\n",
              " 'DT',\n",
              " 'NN',\n",
              " 'IN',\n",
              " 'NN',\n",
              " 'DT']"
            ]
          },
          "metadata": {},
          "execution_count": 50
        }
      ]
    },
    {
      "cell_type": "code",
      "source": [
        "print(littlewomen[:1000])\n",
        "pipeline.annotate(littlewomen[:100])['pos']"
      ],
      "metadata": {
        "colab": {
          "base_uri": "https://localhost:8080/"
        },
        "collapsed": true,
        "id": "UY9J4JkJy4U6",
        "outputId": "53c36041-24f5-407b-f33f-ed8d039b7924"
      },
      "execution_count": 51,
      "outputs": [
        {
          "output_type": "stream",
          "name": "stdout",
          "text": [
            "﻿The Project Gutenberg eBook of Little Women; Or, Meg, Jo, Beth, and Amy\n",
            "    \n",
            "This ebook is for the use of anyone anywhere in the United States and\n",
            "most other parts of the world at no cost and with almost no restrictions\n",
            "whatsoever. You may copy it, give it away or re-use it under the terms\n",
            "of the Project Gutenberg License included with this ebook or online\n",
            "at www.gutenberg.org. If you are not located in the United States,\n",
            "you will have to check the laws of the country where you are located\n",
            "before using this eBook.\n",
            "\n",
            "Title: Little Women; Or, Meg, Jo, Beth, and Amy\n",
            "\n",
            "Author: Louisa May Alcott\n",
            "\n",
            "Illustrator: Frank T. Merrill\n",
            "\n",
            "Release date: August 16, 2011 [eBook #37106]\n",
            "                Most recently updated: May 22, 2023\n",
            "\n",
            "Language: English\n",
            "\n",
            "Credits: David Edwards, Ernest Schaal, Robert Homa, and the Online Distributed Proofreading Team\n",
            "\n",
            "\n",
            "*** START OF THE PROJECT GUTENBERG EBOOK LITTLE WOMEN; OR, MEG, JO, BETH, AND AMY ***\n",
            "\n",
            "\n",
            "\n",
            "\n",
            "                      [Illustration: LITTLE WOMEN\n",
            "               \n"
          ]
        },
        {
          "output_type": "execute_result",
          "data": {
            "text/plain": [
              "['DT',\n",
              " 'NNP',\n",
              " 'NNP',\n",
              " 'NN',\n",
              " 'IN',\n",
              " 'NNP',\n",
              " 'NNP',\n",
              " ':',\n",
              " 'CC',\n",
              " ',',\n",
              " 'NNP',\n",
              " ',',\n",
              " 'NNP',\n",
              " ',',\n",
              " 'NNP',\n",
              " ',',\n",
              " 'CC',\n",
              " 'NNP',\n",
              " 'DT',\n",
              " 'NN',\n",
              " 'VBZ',\n",
              " 'IN',\n",
              " 'DT']"
            ]
          },
          "metadata": {},
          "execution_count": 51
        }
      ]
    },
    {
      "cell_type": "code",
      "source": [
        "print(littlemen[:1000])\n",
        "pipeline.annotate(littlemen[:100])['pos']"
      ],
      "metadata": {
        "colab": {
          "base_uri": "https://localhost:8080/"
        },
        "collapsed": true,
        "id": "Rvm4w7nsy6uM",
        "outputId": "699627ea-7129-4d4b-9e50-05c10b21a891"
      },
      "execution_count": 54,
      "outputs": [
        {
          "output_type": "stream",
          "name": "stdout",
          "text": [
            "﻿The Project Gutenberg eBook of Little Men: Life at Plumfield With Jo's Boys\n",
            "    \n",
            "This ebook is for the use of anyone anywhere in the United States and\n",
            "most other parts of the world at no cost and with almost no restrictions\n",
            "whatsoever. You may copy it, give it away or re-use it under the terms\n",
            "of the Project Gutenberg License included with this ebook or online\n",
            "at www.gutenberg.org. If you are not located in the United States,\n",
            "you will have to check the laws of the country where you are located\n",
            "before using this eBook.\n",
            "\n",
            "Title: Little Men: Life at Plumfield With Jo's Boys\n",
            "\n",
            "Author: Louisa May Alcott\n",
            "\n",
            "Release date: August 1, 2001 [eBook #2788]\n",
            "                Most recently updated: July 12, 2024\n",
            "\n",
            "Language: English\n",
            "\n",
            "Credits: David Reed, and David Widger\n",
            "\n",
            "\n",
            "*** START OF THE PROJECT GUTENBERG EBOOK LITTLE MEN: LIFE AT PLUMFIELD WITH JO'S BOYS ***\n",
            "\n",
            "\n",
            "\n",
            "\n",
            "LITTLE MEN: LIFE AT PLUMFIELD WITH JO'S BOYS\n",
            "\n",
            "By Louisa May Alcott\n",
            "\n",
            "\n",
            "     TO\n",
            "     FREDDY AND JOHNNY,\n",
            "     THE LITTLE MEN\n",
            "     TO WHOM SHE OWES S\n"
          ]
        },
        {
          "output_type": "execute_result",
          "data": {
            "text/plain": [
              "['DT',\n",
              " 'NNP',\n",
              " 'NNP',\n",
              " 'NN',\n",
              " 'IN',\n",
              " 'NNP',\n",
              " 'NNP',\n",
              " ':',\n",
              " 'NNP',\n",
              " 'IN',\n",
              " 'NNP',\n",
              " 'IN',\n",
              " 'NNS',\n",
              " 'NNP',\n",
              " 'DT',\n",
              " 'NN',\n",
              " 'VBZ',\n",
              " 'IN']"
            ]
          },
          "metadata": {},
          "execution_count": 54
        }
      ]
    },
    {
      "cell_type": "markdown",
      "source": [
        "### Step 4: Word Count Exploration"
      ],
      "metadata": {
        "id": "KB0xSQpWzKGg"
      }
    },
    {
      "cell_type": "code",
      "source": [
        "from pyspark.sql import SparkSession"
      ],
      "metadata": {
        "id": "RGl2WFBLzLXh"
      },
      "execution_count": 55,
      "outputs": []
    },
    {
      "cell_type": "code",
      "source": [
        "spark = SparkSession.builder.appName(\"Pronoun Frequency Analysis\").getOrCreate()\n"
      ],
      "metadata": {
        "id": "JSEtFEyGzM3k"
      },
      "execution_count": 56,
      "outputs": []
    },
    {
      "cell_type": "code",
      "source": [
        "texts = {\n",
        "    'mobydick': 'mobydick.txt',\n",
        "    'littlewomen': 'littlewomen.txt',\n",
        "    'littlemen': 'littlemen.txt'\n",
        "}"
      ],
      "metadata": {
        "id": "Se_NO4cDzPo5"
      },
      "execution_count": 57,
      "outputs": []
    },
    {
      "cell_type": "code",
      "source": [
        "for name, file in texts.items():\n",
        "    text_rdd = spark.sparkContext.textFile(file)\n",
        "    counts = (\n",
        "        text_rdd.flatMap(lambda line: line.split(\" \"))\n",
        "        .map(lambda word: (word, 1))\n",
        "        .reduceByKey(lambda a, b: a + b)\n",
        "    )\n",
        "    print(f\"{name} word counts: {counts.collect()[:10]}\")"
      ],
      "metadata": {
        "colab": {
          "base_uri": "https://localhost:8080/"
        },
        "id": "kiU8nadvzRpI",
        "outputId": "033be8ee-f675-4bd3-cb43-0baef8a2f7f3"
      },
      "execution_count": 58,
      "outputs": [
        {
          "output_type": "stream",
          "name": "stdout",
          "text": [
            "mobydick word counts: [('The', 634), ('Project', 80), ('of', 6642), ('Moby', 79), ('', 4320), ('ebook', 2), ('is', 1585), ('use', 36), ('anyone', 5), ('anywhere', 11)]\n",
            "littlewomen word counts: [('The', 341), ('Project', 82), ('of', 3622), ('Women;', 3), ('Jo,', 406), ('Amy', 356), ('', 24604), ('ebook', 2), ('is', 758), ('use', 54)]\n",
            "littlemen word counts: [('The', 218), ('Project', 79), ('of', 2019), ('Life', 3), ('at', 545), ('Boys', 3), ('', 3383), ('ebook', 2), ('is', 436), ('use', 21)]\n"
          ]
        }
      ]
    },
    {
      "cell_type": "markdown",
      "source": [
        "### Step 5: Pronoun Frequency Analysis"
      ],
      "metadata": {
        "id": "J6qLSHF4zWOy"
      }
    },
    {
      "cell_type": "code",
      "source": [
        "import pyspark\n",
        "from sparknlp.base import DocumentAssembler\n",
        "from sparknlp.annotator import Tokenizer, PerceptronModel\n",
        "from pyspark.sql.functions import col, explode, arrays_zip, when, count\n",
        "import matplotlib.pyplot as plt\n",
        "from scipy.stats import chi2_contingency"
      ],
      "metadata": {
        "id": "AO6UV8aEzdBG"
      },
      "execution_count": 73,
      "outputs": []
    },
    {
      "cell_type": "code",
      "source": [
        "# Initialize Spark session\n",
        "spark = SparkSession.builder.appName(\"Pronoun Frequency Analysis\").getOrCreate()\n"
      ],
      "metadata": {
        "id": "Ng75f7jy48eO"
      },
      "execution_count": 74,
      "outputs": []
    },
    {
      "cell_type": "code",
      "source": [
        "# Load the texts\n",
        "texts_data = [(mobydick, 'Moby-Dick'), (littlewomen, 'Little Women'), (littlemen, 'Little Men')]\n",
        "df = spark.createDataFrame(texts_data, [\"text\", \"book\"])\n"
      ],
      "metadata": {
        "id": "g9EPIigSze71"
      },
      "execution_count": 75,
      "outputs": []
    },
    {
      "cell_type": "code",
      "source": [
        "# Define Spark NLP pipeline\n",
        "document_assembler = DocumentAssembler().setInputCol(\"text\").setOutputCol(\"document\")\n",
        "tokenizer = Tokenizer().setInputCols([\"document\"]).setOutputCol(\"token\")\n",
        "pos_tagger = PerceptronModel.pretrained().setInputCols([\"document\", \"token\"]).setOutputCol(\"pos\")\n",
        "\n",
        "pipeline = Pipeline(stages=[document_assembler, tokenizer, pos_tagger])\n"
      ],
      "metadata": {
        "colab": {
          "base_uri": "https://localhost:8080/"
        },
        "id": "bOH7E9lxzg6m",
        "outputId": "a3545efa-b145-4450-dbc8-f044580a89e5"
      },
      "execution_count": 76,
      "outputs": [
        {
          "output_type": "stream",
          "name": "stdout",
          "text": [
            "pos_anc download started this may take some time.\n",
            "Approximate size to download 3.9 MB\n",
            "[OK!]\n"
          ]
        }
      ]
    },
    {
      "cell_type": "code",
      "source": [
        "# Process the texts\n",
        "model = pipeline.fit(df)\n",
        "result = model.transform(df)"
      ],
      "metadata": {
        "id": "U2SA3B_0zm7c"
      },
      "execution_count": 63,
      "outputs": []
    },
    {
      "cell_type": "code",
      "source": [
        "# Extract tokens and POS tags\n",
        "tokens_pos = result.select(\"book\", explode(arrays_zip(result.token.result, result.pos.result)).alias(\"cols\")) \\\n",
        "    .select(\"book\", col(\"cols\")[\"0\"].alias(\"token\"), col(\"cols\")[\"1\"].alias(\"pos\"))\n"
      ],
      "metadata": {
        "id": "kuz9QHdLzpD7"
      },
      "execution_count": 77,
      "outputs": []
    },
    {
      "cell_type": "code",
      "source": [
        "# Pronoun lists\n",
        "feminine_pronouns = ['she', 'her']\n",
        "masculine_pronouns = ['he', 'him']"
      ],
      "metadata": {
        "id": "vWNMfEzmzp1A"
      },
      "execution_count": 78,
      "outputs": []
    },
    {
      "cell_type": "code",
      "source": [
        "# Count pronoun occurrences by POS tag\n",
        "subject_tags = ['PRP']\n",
        "object_tags = ['PRP$', 'DT']"
      ],
      "metadata": {
        "id": "0Ts5rVRmztWu"
      },
      "execution_count": 79,
      "outputs": []
    },
    {
      "cell_type": "code",
      "source": [
        "def get_count(count_list, index=0):\n",
        "    return count_list[index]['count'] if count_list else 0"
      ],
      "metadata": {
        "id": "MK8HryP15Ox_"
      },
      "execution_count": 80,
      "outputs": []
    },
    {
      "cell_type": "code",
      "source": [
        "# Collect counts with safety checks\n",
        "feminine_subject_count = tokens_pos.filter((col(\"token\").isin(feminine_pronouns)) & (col(\"pos\").isin(subject_tags))).groupBy(\"book\").count().collect()\n",
        "feminine_object_count = tokens_pos.filter((col(\"token\").isin(feminine_pronouns)) & (col(\"pos\").isin(object_tags))).groupBy(\"book\").count().collect()\n",
        "masculine_subject_count = tokens_pos.filter((col(\"token\").isin(masculine_pronouns)) & (col(\"pos\").isin(subject_tags))).groupBy(\"book\").count().collect()\n",
        "masculine_object_count = tokens_pos.filter((col(\"token\").isin(masculine_pronouns)) & (col(\"pos\").isin(object_tags))).groupBy(\"book\").count().collect()\n"
      ],
      "metadata": {
        "id": "Nu97tlF70hNV"
      },
      "execution_count": 81,
      "outputs": []
    },
    {
      "cell_type": "code",
      "source": [
        "# Convert counts to list for chi-squared test\n",
        "data = [\n",
        "    [\n",
        "        get_count(feminine_subject_count),\n",
        "        get_count(feminine_object_count)\n",
        "    ],\n",
        "    [\n",
        "        get_count(masculine_subject_count),\n",
        "        get_count(masculine_object_count)\n",
        "    ]\n",
        "]"
      ],
      "metadata": {
        "id": "xmgCPWyj0EkQ"
      },
      "execution_count": 82,
      "outputs": []
    },
    {
      "cell_type": "code",
      "source": [
        "# Perform chi-squared test\n",
        "chi2, p, dof, ex = chi2_contingency(data)"
      ],
      "metadata": {
        "id": "jNzKO9oF0FlM"
      },
      "execution_count": 83,
      "outputs": []
    },
    {
      "cell_type": "code",
      "source": [
        "# Visualize the data\n",
        "labels = ['Feminine Subject', 'Feminine Object', 'Masculine Subject', 'Masculine Object']\n",
        "counts_data = [\n",
        "    get_count(feminine_subject_count),\n",
        "    get_count(feminine_object_count),\n",
        "    get_count(masculine_subject_count),\n",
        "    get_count(masculine_object_count)\n",
        "]\n",
        "\n",
        "plt.figure(figsize=(10, 6))\n",
        "plt.bar(labels, counts_data, color=['#FF69B4', '#FF69B4', '#1E90FF', '#1E90FF'])\n",
        "plt.xlabel('Pronoun Type and Syntactic Role')\n",
        "plt.ylabel('Frequency')\n",
        "plt.title('Pronoun Frequencies by Syntactic Role and Text')\n",
        "plt.show()"
      ],
      "metadata": {
        "colab": {
          "base_uri": "https://localhost:8080/",
          "height": 564
        },
        "id": "Zk8fMFw_0Hwg",
        "outputId": "63a2f077-bfe6-4acf-9feb-9d7ad1767557"
      },
      "execution_count": 84,
      "outputs": [
        {
          "output_type": "display_data",
          "data": {
            "text/plain": [
              "<Figure size 1000x600 with 1 Axes>"
            ],
            "image/png": "[encoded data removed]"
          },
          "metadata": {}
        }
      ]
    },
    {
      "cell_type": "code",
      "source": [
        "# Output results\n",
        "print(\"Chi-Squared Test\")\n",
        "print(f\"Chi2 Statistic: {chi2}\")\n",
        "print(f\"P-value: {p}\")"
      ],
      "metadata": {
        "colab": {
          "base_uri": "https://localhost:8080/"
        },
        "id": "yf9xPENt5bj4",
        "outputId": "c3958387-096f-48a2-a6cc-af58384235e3"
      },
      "execution_count": 85,
      "outputs": [
        {
          "output_type": "stream",
          "name": "stdout",
          "text": [
            "Chi-Squared Test\n",
            "Chi2 Statistic: 1947.796335480638\n",
            "P-value: 0.0\n"
          ]
        }
      ]
    },
    {
      "cell_type": "markdown",
      "source": [
        "Visualize by book\n"
      ],
      "metadata": {
        "id": "VhAv4fTk6heF"
      }
    },
    {
      "cell_type": "code",
      "source": [
        "# Visualization\n",
        "books = ['Moby-Dick', 'Little Women', 'Little Men']\n",
        "pronoun_labels = ['Feminine Subject', 'Feminine Object', 'Masculine Subject', 'Masculine Object']\n",
        "\n",
        "# Extract counts for each book\n",
        "counts_by_book = {\n",
        "    book: [\n",
        "        get_count(feminine_subject_counts, book),\n",
        "        get_count(feminine_object_counts, book),\n",
        "        get_count(masculine_subject_counts, book),\n",
        "        get_count(masculine_object_counts, book)\n",
        "    ] for book in books\n",
        "}"
      ],
      "metadata": {
        "colab": {
          "base_uri": "https://localhost:8080/",
          "height": 341
        },
        "id": "iX9OVPRl6S-U",
        "outputId": "fcf85928-d909-4e9e-876b-5ee07c031bd5"
      },
      "execution_count": 86,
      "outputs": [
        {
          "output_type": "error",
          "ename": "NameError",
          "evalue": "name 'feminine_subject_counts' is not defined",
          "traceback": [
            "\u001b[0;31m---------------------------------------------------------------------------\u001b[0m",
            "\u001b[0;31mNameError\u001b[0m                                 Traceback (most recent call last)",
            "\u001b[0;32m<ipython-input-86-818f8d7d4f72>\u001b[0m in \u001b[0;36m<cell line: 6>\u001b[0;34m()\u001b[0m\n\u001b[1;32m      4\u001b[0m \u001b[0;34m\u001b[0m\u001b[0m\n\u001b[1;32m      5\u001b[0m \u001b[0;31m# Extract counts for each book\u001b[0m\u001b[0;34m\u001b[0m\u001b[0;34m\u001b[0m\u001b[0m\n\u001b[0;32m----> 6\u001b[0;31m counts_by_book = {\n\u001b[0m\u001b[1;32m      7\u001b[0m     book: [\n\u001b[1;32m      8\u001b[0m         \u001b[0mget_count\u001b[0m\u001b[0;34m(\u001b[0m\u001b[0mfeminine_subject_counts\u001b[0m\u001b[0;34m,\u001b[0m \u001b[0mbook\u001b[0m\u001b[0;34m)\u001b[0m\u001b[0;34m,\u001b[0m\u001b[0;34m\u001b[0m\u001b[0;34m\u001b[0m\u001b[0m\n",
            "\u001b[0;32m<ipython-input-86-818f8d7d4f72>\u001b[0m in \u001b[0;36m<dictcomp>\u001b[0;34m(.0)\u001b[0m\n\u001b[1;32m      6\u001b[0m counts_by_book = {\n\u001b[1;32m      7\u001b[0m     book: [\n\u001b[0;32m----> 8\u001b[0;31m         \u001b[0mget_count\u001b[0m\u001b[0;34m(\u001b[0m\u001b[0mfeminine_subject_counts\u001b[0m\u001b[0;34m,\u001b[0m \u001b[0mbook\u001b[0m\u001b[0;34m)\u001b[0m\u001b[0;34m,\u001b[0m\u001b[0;34m\u001b[0m\u001b[0;34m\u001b[0m\u001b[0m\n\u001b[0m\u001b[1;32m      9\u001b[0m         \u001b[0mget_count\u001b[0m\u001b[0;34m(\u001b[0m\u001b[0mfeminine_object_counts\u001b[0m\u001b[0;34m,\u001b[0m \u001b[0mbook\u001b[0m\u001b[0;34m)\u001b[0m\u001b[0;34m,\u001b[0m\u001b[0;34m\u001b[0m\u001b[0;34m\u001b[0m\u001b[0m\n\u001b[1;32m     10\u001b[0m         \u001b[0mget_count\u001b[0m\u001b[0;34m(\u001b[0m\u001b[0mmasculine_subject_counts\u001b[0m\u001b[0;34m,\u001b[0m \u001b[0mbook\u001b[0m\u001b[0;34m)\u001b[0m\u001b[0;34m,\u001b[0m\u001b[0;34m\u001b[0m\u001b[0;34m\u001b[0m\u001b[0m\n",
            "\u001b[0;31mNameError\u001b[0m: name 'feminine_subject_counts' is not defined"
          ]
        }
      ]
    },
    {
      "cell_type": "code",
      "source": [
        "# Plotting\n",
        "plt.figure(figsize=(12, 8))\n",
        "\n",
        "for i, book in enumerate(books):\n",
        "    plt.bar(\n",
        "        [x + i * 0.2 for x in range(len(pronoun_labels))],\n",
        "        counts_by_book[book],\n",
        "        width=0.2,\n",
        "        label=book\n",
        "    )\n",
        "\n",
        "plt.xlabel('Pronoun Type and Syntactic Role')\n",
        "plt.ylabel('Frequency')\n",
        "plt.title('Pronoun Frequencies by Syntactic Role and Text')\n",
        "plt.xticks([x + 0.2 for x in range(len(pronoun_labels))], pronoun_labels)\n",
        "plt.legend()\n",
        "plt.show()"
      ],
      "metadata": {
        "id": "jA9xI2YD6XcK"
      },
      "execution_count": null,
      "outputs": []
    },
    {
      "cell_type": "markdown",
      "source": [
        "#### MobyDick Exploration"
      ],
      "metadata": {
        "id": "ypaUthO4vlOh"
      }
    },
    {
      "cell_type": "code",
      "source": [
        "print(mobydick[:1000])"
      ],
      "metadata": {
        "collapsed": true,
        "id": "W5tnBx_a-fsb",
        "colab": {
          "base_uri": "https://localhost:8080/"
        },
        "outputId": "14dcd8e1-522d-4c82-f260-0f0c7815ea15"
      },
      "execution_count": 15,
      "outputs": [
        {
          "output_type": "stream",
          "name": "stdout",
          "text": [
            "﻿The Project Gutenberg eBook of Moby Dick; Or, The Whale\n",
            "    \n",
            "This ebook is for the use of anyone anywhere in the United States and\n",
            "most other parts of the world at no cost and with almost no restrictions\n",
            "whatsoever. You may copy it, give it away or re-use it under the terms\n",
            "of the Project Gutenberg License included with this ebook or online\n",
            "at www.gutenberg.org. If you are not located in the United States,\n",
            "you will have to check the laws of the country where you are located\n",
            "before using this eBook.\n",
            "\n",
            "Title: Moby Dick; Or, The Whale\n",
            "\n",
            "Author: Herman Melville\n",
            "\n",
            "Release date: July 1, 2001 [eBook #2701]\n",
            "                Most recently updated: August 18, 2021\n",
            "\n",
            "Language: English\n",
            "\n",
            "Credits: Daniel Lazarus, Jonesey, and David Widger\n",
            "\n",
            "\n",
            "*** START OF THE PROJECT GUTENBERG EBOOK MOBY DICK; OR, THE WHALE ***\n",
            "\n",
            "\n",
            "\n",
            "\n",
            "MOBY-DICK;\n",
            "\n",
            "or, THE WHALE.\n",
            "\n",
            "By Herman Melville\n",
            "\n",
            "\n",
            "\n",
            "CONTENTS\n",
            "\n",
            "ETYMOLOGY.\n",
            "\n",
            "EXTRACTS (Supplied by a Sub-Sub-Librarian).\n",
            "\n",
            "CHAPTER 1. Loomings.\n",
            "\n",
            "CHAPTER 2. The Carpet-Bag.\n",
            "\n",
            "CHAPTER 3. The Spouter-Inn\n"
          ]
        }
      ]
    },
    {
      "cell_type": "code",
      "source": [
        "pipeline.annotate(mobydick[:100])['pos']\n",
        "\n",
        "#Note: Processes the first 100 characters of \"Moby-Dick\" through the NLP pipeline to get the part-of-speech tags for each word in that text segment."
      ],
      "metadata": {
        "collapsed": true,
        "id": "eCzIAM61-fux",
        "colab": {
          "base_uri": "https://localhost:8080/"
        },
        "outputId": "146cc24a-e893-4ebd-d2d3-89e417b75977"
      },
      "execution_count": 16,
      "outputs": [
        {
          "output_type": "execute_result",
          "data": {
            "text/plain": [
              "['DT',\n",
              " 'NNP',\n",
              " 'NNP',\n",
              " 'NN',\n",
              " 'IN',\n",
              " 'NN',\n",
              " 'NNP',\n",
              " ':',\n",
              " 'CC',\n",
              " ',',\n",
              " 'DT',\n",
              " 'NNP',\n",
              " 'DT',\n",
              " 'NN',\n",
              " 'VBZ',\n",
              " 'IN',\n",
              " 'DT',\n",
              " 'NN',\n",
              " 'IN',\n",
              " 'NN',\n",
              " 'DT']"
            ]
          },
          "metadata": {},
          "execution_count": 16
        }
      ]
    },
    {
      "cell_type": "code",
      "source": [
        "from pyspark.sql import SparkSession\n",
        "spark = SparkSession.builder.appName(\"demo\").getOrCreate()"
      ],
      "metadata": {
        "id": "VO8a5HB3-fw3"
      },
      "execution_count": 17,
      "outputs": []
    },
    {
      "cell_type": "code",
      "source": [
        "mobydick = spark.sparkContext.textFile('mobydick.txt')\n",
        "\n",
        "counts = (\n",
        "    mobydick.flatMap(lambda line: line.split(\" \"))\n",
        "    .map(lambda word: (word, 1))\n",
        "    .reduceByKey(lambda a, b: a + b)\n",
        ")\n",
        "\n",
        "#Note: performs a word count. Reads the text file, splits each line into words, maps each word to a key-value pair (word, 1), and then reduces by key to count the occurrences of each word."
      ],
      "metadata": {
        "id": "e2CJ9usZ-fzh"
      },
      "execution_count": 18,
      "outputs": []
    },
    {
      "cell_type": "code",
      "source": [
        "counts.collect()[:10]"
      ],
      "metadata": {
        "collapsed": true,
        "id": "s_SaSrVZ-f17",
        "colab": {
          "base_uri": "https://localhost:8080/"
        },
        "outputId": "f3dd3d68-d015-4a95-c91a-d5fa432c865d"
      },
      "execution_count": 19,
      "outputs": [
        {
          "output_type": "execute_result",
          "data": {
            "text/plain": [
              "[('The', 634),\n",
              " ('Project', 80),\n",
              " ('of', 6642),\n",
              " ('Moby', 79),\n",
              " ('', 4320),\n",
              " ('ebook', 2),\n",
              " ('is', 1585),\n",
              " ('use', 36),\n",
              " ('anyone', 5),\n",
              " ('anywhere', 11)]"
            ]
          },
          "metadata": {},
          "execution_count": 19
        }
      ]
    },
    {
      "cell_type": "markdown",
      "source": [
        "#### Little Women Exploration"
      ],
      "metadata": {
        "id": "b02fBCHBvrLZ"
      }
    },
    {
      "cell_type": "code",
      "source": [
        "print(littlewomen[:1000])"
      ],
      "metadata": {
        "collapsed": true,
        "id": "h2UOQocF-f8q",
        "colab": {
          "base_uri": "https://localhost:8080/"
        },
        "outputId": "cb1163bc-8d1e-4f8f-c43d-632d41d2f928"
      },
      "execution_count": 22,
      "outputs": [
        {
          "output_type": "stream",
          "name": "stdout",
          "text": [
            "﻿The Project Gutenberg eBook of Little Women; Or, Meg, Jo, Beth, and Amy\n",
            "    \n",
            "This ebook is for the use of anyone anywhere in the United States and\n",
            "most other parts of the world at no cost and with almost no restrictions\n",
            "whatsoever. You may copy it, give it away or re-use it under the terms\n",
            "of the Project Gutenberg License included with this ebook or online\n",
            "at www.gutenberg.org. If you are not located in the United States,\n",
            "you will have to check the laws of the country where you are located\n",
            "before using this eBook.\n",
            "\n",
            "Title: Little Women; Or, Meg, Jo, Beth, and Amy\n",
            "\n",
            "Author: Louisa May Alcott\n",
            "\n",
            "Illustrator: Frank T. Merrill\n",
            "\n",
            "Release date: August 16, 2011 [eBook #37106]\n",
            "                Most recently updated: May 22, 2023\n",
            "\n",
            "Language: English\n",
            "\n",
            "Credits: David Edwards, Ernest Schaal, Robert Homa, and the Online Distributed Proofreading Team\n",
            "\n",
            "\n",
            "*** START OF THE PROJECT GUTENBERG EBOOK LITTLE WOMEN; OR, MEG, JO, BETH, AND AMY ***\n",
            "\n",
            "\n",
            "\n",
            "\n",
            "                      [Illustration: LITTLE WOMEN\n",
            "               \n"
          ]
        }
      ]
    },
    {
      "cell_type": "code",
      "source": [
        "pipeline.annotate(littlewomen[:100])['pos']"
      ],
      "metadata": {
        "collapsed": true,
        "id": "6ml3PtCH-f-o",
        "colab": {
          "base_uri": "https://localhost:8080/"
        },
        "outputId": "f0812c02-3d36-4990-f34a-bf00f5de2da3"
      },
      "execution_count": 23,
      "outputs": [
        {
          "output_type": "execute_result",
          "data": {
            "text/plain": [
              "['DT',\n",
              " 'NNP',\n",
              " 'NNP',\n",
              " 'NN',\n",
              " 'IN',\n",
              " 'NNP',\n",
              " 'NNP',\n",
              " ':',\n",
              " 'CC',\n",
              " ',',\n",
              " 'NNP',\n",
              " ',',\n",
              " 'NNP',\n",
              " ',',\n",
              " 'NNP',\n",
              " ',',\n",
              " 'CC',\n",
              " 'NNP',\n",
              " 'DT',\n",
              " 'NN',\n",
              " 'VBZ',\n",
              " 'IN',\n",
              " 'DT']"
            ]
          },
          "metadata": {},
          "execution_count": 23
        }
      ]
    },
    {
      "cell_type": "code",
      "source": [
        "from pyspark.sql import SparkSession\n",
        "spark = SparkSession.builder.appName(\"demo\").getOrCreate()"
      ],
      "metadata": {
        "id": "KqR_BMcIEKov"
      },
      "execution_count": 24,
      "outputs": []
    },
    {
      "cell_type": "code",
      "source": [
        "littlewomen = spark.sparkContext.textFile('littlewomen.txt')\n",
        "\n",
        "counts_lw = (\n",
        "    littlewomen.flatMap(lambda line: line.split(\" \"))\n",
        "    .map(lambda word: (word, 1))\n",
        "    .reduceByKey(lambda a, b: a + b)\n",
        ")"
      ],
      "metadata": {
        "id": "5df9vFfQEKrI"
      },
      "execution_count": 25,
      "outputs": []
    },
    {
      "cell_type": "code",
      "source": [
        "counts_lw.collect()[:10]"
      ],
      "metadata": {
        "id": "Rltl4jDiEKtc",
        "colab": {
          "base_uri": "https://localhost:8080/"
        },
        "collapsed": true,
        "outputId": "1bc914e8-1dc3-43f2-e8c0-73ecc187fd4c"
      },
      "execution_count": 26,
      "outputs": [
        {
          "output_type": "execute_result",
          "data": {
            "text/plain": [
              "[('The', 341),\n",
              " ('Project', 82),\n",
              " ('of', 3622),\n",
              " ('Women;', 3),\n",
              " ('Jo,', 406),\n",
              " ('Amy', 356),\n",
              " ('', 24604),\n",
              " ('ebook', 2),\n",
              " ('is', 758),\n",
              " ('use', 54)]"
            ]
          },
          "metadata": {},
          "execution_count": 26
        }
      ]
    },
    {
      "cell_type": "markdown",
      "source": [
        "#### Littlemen Exploration"
      ],
      "metadata": {
        "id": "nemtLZ-Nvx9h"
      }
    },
    {
      "cell_type": "code",
      "source": [
        "littlemen = open('littlemen.txt').read()"
      ],
      "metadata": {
        "id": "fbBPVXbyIg_u"
      },
      "execution_count": 44,
      "outputs": []
    },
    {
      "cell_type": "code",
      "source": [
        "print(littlemen[:10000])"
      ],
      "metadata": {
        "collapsed": true,
        "colab": {
          "base_uri": "https://localhost:8080/"
        },
        "id": "lVio5y0jIhCe",
        "outputId": "a93b5036-0c6b-44fb-b138-6fbc909a8aeb"
      },
      "execution_count": 45,
      "outputs": [
        {
          "output_type": "stream",
          "name": "stdout",
          "text": [
            "﻿The Project Gutenberg eBook of Little Men: Life at Plumfield With Jo's Boys\n",
            "    \n",
            "This ebook is for the use of anyone anywhere in the United States and\n",
            "most other parts of the world at no cost and with almost no restrictions\n",
            "whatsoever. You may copy it, give it away or re-use it under the terms\n",
            "of the Project Gutenberg License included with this ebook or online\n",
            "at www.gutenberg.org. If you are not located in the United States,\n",
            "you will have to check the laws of the country where you are located\n",
            "before using this eBook.\n",
            "\n",
            "Title: Little Men: Life at Plumfield With Jo's Boys\n",
            "\n",
            "Author: Louisa May Alcott\n",
            "\n",
            "Release date: August 1, 2001 [eBook #2788]\n",
            "                Most recently updated: July 12, 2024\n",
            "\n",
            "Language: English\n",
            "\n",
            "Credits: David Reed, and David Widger\n",
            "\n",
            "\n",
            "*** START OF THE PROJECT GUTENBERG EBOOK LITTLE MEN: LIFE AT PLUMFIELD WITH JO'S BOYS ***\n",
            "\n",
            "\n",
            "\n",
            "\n",
            "LITTLE MEN: LIFE AT PLUMFIELD WITH JO'S BOYS\n",
            "\n",
            "By Louisa May Alcott\n",
            "\n",
            "\n",
            "     TO\n",
            "     FREDDY AND JOHNNY,\n",
            "     THE LITTLE MEN\n",
            "     TO WHOM SHE OWES SOME OF THE BEST AND HAPPIEST\n",
            "     HOURS OF HER LIFE,\n",
            "     THIS BOOK IS GRATEFULLY DEDICATED\n",
            "     BY THEIR LOVING\n",
            "     “AUNT WEEDY”\n",
            "\n",
            "\n",
            "\n",
            "Contents\n",
            "\n",
            "     CHAPTER I. NAT\n",
            "     CHAPTER II. THE BOYS\n",
            "     CHAPTER III. SUNDAY\n",
            "     CHAPTER IV. STEPPING-STONES\n",
            "     CHAPTER V. PATTY PANS\n",
            "     CHAPTER VI. A FIRE BRAND\n",
            "     CHAPTER VII. NAUGHTY NAN\n",
            "     CHAPTER VIII. PRANKS AND PLAYS\n",
            "     CHAPTER IX. DAISY'S BALL\n",
            "     CHAPTER X. HOME AGAIN\n",
            "     CHAPTER XI. UNCLE TEDDY\n",
            "     CHAPTER XII. HUCKLEBERRIES\n",
            "     CHAPTER XIII. GOLDILOCKS\n",
            "     CHAPTER XIV. DAMON AND PYTHIAS\n",
            "     CHAPTER XV. IN THE WILLOW\n",
            "     CHAPTER XVI. TAMING THE COLT\n",
            "     CHAPTER XVII. COMPOSITION DAY\n",
            "     CHAPTER XVIII. CROPS\n",
            "     CHAPTER XIX. JOHN BROOKE\n",
            "     CHAPTER XX. ROUND THE FIRE\n",
            "     CHAPTER XXI. THANKSGIVING\n",
            "\n",
            "\n",
            "\n",
            "\n",
            "LITTLE MEN\n",
            "\n",
            "LIFE AT PLUMFIELD WITH JO'S BOYS\n",
            "\n",
            "\n",
            "\n",
            "CHAPTER I. NAT\n",
            "\n",
            "“Please, sir, is this Plumfield?” asked a ragged boy of the man who\n",
            "opened the great gate at which the omnibus left him.\n",
            "\n",
            "“Yes. Who sent you?”\n",
            "\n",
            "“Mr. Laurence. I have got a letter for the lady.”\n",
            "\n",
            "“All right; go up to the house, and give it to her; she'll see to you,\n",
            "little chap.”\n",
            "\n",
            "The man spoke pleasantly, and the boy went on, feeling much cheered by\n",
            "the words. Through the soft spring rain that fell on sprouting grass\n",
            "and budding trees, Nat saw a large square house before him, a\n",
            "hospitable-looking house, with an old-fashioned porch, wide steps, and\n",
            "lights shining in many windows. Neither curtains nor shutters hid the\n",
            "cheerful glimmer; and, pausing a moment before he rang, Nat saw many\n",
            "little shadows dancing on the walls, heard the pleasant hum of young\n",
            "voices, and felt that it was hardly possible that the light and warmth\n",
            "and comfort within could be for a homeless “little chap” like him.\n",
            "\n",
            "“I hope the lady will see to me,” he thought, and gave a timid rap with\n",
            "the great bronze knocker, which was a jovial griffin's head.\n",
            "\n",
            "A rosy-faced servant-maid opened the door, and smiled as she took the\n",
            "letter which he silently offered. She seemed used to receiving strange\n",
            "boys, for she pointed to a seat in the hall, and said, with a nod:\n",
            "\n",
            "“Sit there and drip on the mat a bit, while I take this in to missis.”\n",
            "\n",
            "Nat found plenty to amuse him while he waited, and stared about him\n",
            "curiously, enjoying the view, yet glad to do so unobserved in the dusky\n",
            "recess by the door.\n",
            "\n",
            "The house seemed swarming with boys, who were beguiling the rainy\n",
            "twilight with all sorts of amusements. There were boys everywhere,\n",
            "“up-stairs and down-stairs and in the lady's chamber,” apparently, for\n",
            "various open doors showed pleasant groups of big boys, little boys,\n",
            "and middle-sized boys in all stages of evening relaxation, not to say\n",
            "effervescence. Two large rooms on the right were evidently schoolrooms,\n",
            "for desks, maps, blackboards, and books were scattered about. An open\n",
            "fire burned on the hearth, and several indolent lads lay on their backs\n",
            "before it, discussing a new cricket-ground, with such animation that\n",
            "their boots waved in the air. A tall youth was practising on the flute\n",
            "in one corner, quite undisturbed by the racket all about him. Two or\n",
            "three others were jumping over the desks, pausing, now and then, to get\n",
            "their breath and laugh at the droll sketches of a little wag who was\n",
            "caricaturing the whole household on a blackboard.\n",
            "\n",
            "In the room on the left a long supper-table was seen, set forth with\n",
            "great pitchers of new milk, piles of brown and white bread, and perfect\n",
            "stacks of the shiny gingerbread so dear to boyish souls. A flavor of\n",
            "toast was in the air, also suggestions of baked apples, very tantalizing\n",
            "to one hungry little nose and stomach.\n",
            "\n",
            "The hall, however, presented the most inviting prospect of all, for\n",
            "a brisk game of tag was going on in the upper entry. One landing\n",
            "was devoted to marbles, the other to checkers, while the stairs were\n",
            "occupied by a boy reading, a girl singing a lullaby to her doll, two\n",
            "puppies, a kitten, and a constant succession of small boys sliding down\n",
            "the banisters, to the great detriment of their clothes and danger to\n",
            "their limbs.\n",
            "\n",
            "So absorbed did Nat become in this exciting race, that he ventured\n",
            "farther and farther out of his corner; and when one very lively boy\n",
            "came down so swiftly that he could not stop himself, but fell off the\n",
            "banisters, with a crash that would have broken any head but one rendered\n",
            "nearly as hard as a cannon-ball by eleven years of constant bumping, Nat\n",
            "forgot himself, and ran up to the fallen rider, expecting to find him\n",
            "half-dead. The boy, however, only winked rapidly for a second, then lay\n",
            "calmly looking up at the new face with a surprised, “Hullo!”\n",
            "\n",
            "“Hullo!” returned Nat, not knowing what else to say, and thinking that\n",
            "form of reply both brief and easy.\n",
            "\n",
            "“Are you a new boy?” asked the recumbent youth, without stirring.\n",
            "\n",
            "“Don't know yet.”\n",
            "\n",
            "“What's your name?”\n",
            "\n",
            "“Nat Blake.”\n",
            "\n",
            "“Mine's Tommy Bangs. Come up and have a go, will you?” and Tommy got\n",
            "upon his legs like one suddenly remembering the duties of hospitality.\n",
            "\n",
            "“Guess I won't, till I see whether I'm going to stay or not,” returned\n",
            "Nat, feeling the desire to stay increase every moment.\n",
            "\n",
            "“I say, Demi, here's a new one. Come and see to him;” and the lively\n",
            "Thomas returned to his sport with unabated relish.\n",
            "\n",
            "At his call, the boy reading on the stairs looked up with a pair of big\n",
            "brown eyes, and after an instant's pause, as if a little shy, he put the\n",
            "book under his arm, and came soberly down to greet the new-comer, who\n",
            "found something very attractive in the pleasant face of this slender,\n",
            "mild-eyed boy.\n",
            "\n",
            "“Have you seen Aunt Jo?” he asked, as if that was some sort of important\n",
            "ceremony.\n",
            "\n",
            "“I haven't seen anybody yet but you boys; I'm waiting,” answered Nat.\n",
            "\n",
            "“Did Uncle Laurie send you?” proceeded Demi, politely, but gravely.\n",
            "\n",
            "“Mr. Laurence did.”\n",
            "\n",
            "“He is Uncle Laurie; and he always sends nice boys.”\n",
            "\n",
            "Nat looked gratified at the remark, and smiled, in a way that made his\n",
            "thin face very pleasant. He did not know what to say next, so the two\n",
            "stood staring at one another in friendly silence, till the little girl\n",
            "came up with her doll in her arms. She was very like Demi, only not so\n",
            "tall, and had a rounder, rosier face, and blue eyes.\n",
            "\n",
            "“This is my sister, Daisy,” announced Demi, as if presenting a rare and\n",
            "precious creature.\n",
            "\n",
            "The children nodded to one another; and the little girl's face dimpled\n",
            "with pleasure, as she said affably:\n",
            "\n",
            "“I hope you'll stay. We have such good times here; don't we, Demi?”\n",
            "\n",
            "“Of course, we do: that's what Aunt Jo has Plumfield for.”\n",
            "\n",
            "“It seems a very nice place indeed,” observed Nat, feeling that he must\n",
            "respond to these amiable young persons.\n",
            "\n",
            "“It's the nicest place in the world, isn't it, Demi?” said Daisy, who\n",
            "evidently regarded her brother as authority on all subjects.\n",
            "\n",
            "“No, I think Greenland, where the icebergs and seals are, is more\n",
            "interesting. But I'm fond of Plumfield, and it is a very nice place\n",
            "to be in,” returned Demi, who was interested just now in a book on\n",
            "Greenland. He was about to offer to show Nat the pictures and\n",
            "explain them, when the servant returned, saying with a nod toward the\n",
            "parlor-door:\n",
            "\n",
            "“All right; you are to stop.”\n",
            "\n",
            "“I'm glad; now come to Aunt Jo.” And Daisy took him by the hand with a\n",
            "pretty protecting air, which made Nat feel at home at once.\n",
            "\n",
            "Demi returned to his beloved book, while his sister led the new-comer\n",
            "into a back room, where a stout gentleman was frolicking with two little\n",
            "boys on the sofa, and a thin lady was just finishing the letter which\n",
            "she seemed to have been re-reading.\n",
            "\n",
            "“Here he is, aunty!” cried Daisy.\n",
            "\n",
            "“So this is my new boy? I am glad to see you, my dear, and hope you'll\n",
            "be happy here,” said the lady, drawing him to her, and stroking back the\n",
            "hair from his forehead with a kind hand and a motherly look, which made\n",
            "Nat's lonely little heart yearn toward her.\n",
            "\n",
            "She was not at all handsome, but she had a merry sort of face that never\n",
            "seemed to have forgotten certain childish ways and looks, any more than\n",
            "her voice and manner had; and these things, hard to describe but very\n",
            "plain to see and feel, made her a genial, comfortable kind of person,\n",
            "easy to get on with, and generally “jolly,” as boys would say. She saw\n",
            "the little tremble of Nat's lips as she smoothed his hair, and her keen\n",
            "eyes grew softer, but she only drew the shabby figure nearer and said,\n",
            "laughing:\n",
            "\n",
            "“I am Mother Bhaer, that gentleman is Father Bhaer, and these are the\n",
            "two little Bhaers. Come here, boys, and see Nat.”\n",
            "\n",
            "The three wrestlers obeyed at once; and the stout man, with a chubby\n",
            "child on each shoulder, came up to welcome the new boy. Rob and Teddy\n",
            "merely grinned at him, but Mr. Bhaer shook hands, and pointing to a low\n",
            "chair near the fire, said, in a cordial voice:\n",
            "\n",
            "“There is a place all ready for thee, my son; sit down and dry thy wet\n",
            "feet at once.”\n",
            "\n",
            "“Wet? So they are! My dear, off with your shoes this minute, and I'll\n",
            "have some dry things ready for you in a jiffy,” cried Mrs. Bhaer,\n",
            "bustling about so energetically that Nat found himself in the cosy\n",
            "little chair, with dry socks and warm slippers on his fe\n"
          ]
        }
      ]
    },
    {
      "cell_type": "code",
      "source": [
        "pipeline.annotate(littlemen[:100])['pos']"
      ],
      "metadata": {
        "colab": {
          "base_uri": "https://localhost:8080/"
        },
        "id": "CS4KIPPWIhEd",
        "outputId": "efac7f60-a35d-46f1-9a27-57c7cc38808a"
      },
      "execution_count": 46,
      "outputs": [
        {
          "output_type": "execute_result",
          "data": {
            "text/plain": [
              "['DT',\n",
              " 'NNP',\n",
              " 'NNP',\n",
              " 'NN',\n",
              " 'IN',\n",
              " 'NNP',\n",
              " 'NNP',\n",
              " ':',\n",
              " 'NNP',\n",
              " 'IN',\n",
              " 'NNP',\n",
              " 'IN',\n",
              " 'NNS',\n",
              " 'NNP',\n",
              " 'DT',\n",
              " 'NN',\n",
              " 'VBZ',\n",
              " 'IN']"
            ]
          },
          "metadata": {},
          "execution_count": 46
        }
      ]
    },
    {
      "cell_type": "code",
      "source": [
        "from pyspark.sql import SparkSession\n",
        "spark = SparkSession.builder.appName(\"demo\").getOrCreate()"
      ],
      "metadata": {
        "id": "rCdiEhjfIhGk"
      },
      "execution_count": 47,
      "outputs": []
    },
    {
      "cell_type": "code",
      "source": [
        "littlemen = spark.sparkContext.textFile('littlemen.txt')\n",
        "\n",
        "counts_lm = (\n",
        "    littlemen.flatMap(lambda line: line.split(\" \"))\n",
        "    .map(lambda word: (word, 1))\n",
        "    .reduceByKey(lambda a, b: a + b)\n",
        ")\n"
      ],
      "metadata": {
        "id": "yNbvK4lhIhI3"
      },
      "execution_count": 48,
      "outputs": []
    },
    {
      "cell_type": "code",
      "source": [
        "counts_lm.collect()[:10]"
      ],
      "metadata": {
        "colab": {
          "base_uri": "https://localhost:8080/"
        },
        "id": "_QDkZ8O3IhLG",
        "outputId": "dc8042d1-0fa1-4f6c-addc-177755ee4fdf"
      },
      "execution_count": 49,
      "outputs": [
        {
          "output_type": "execute_result",
          "data": {
            "text/plain": [
              "[('The', 218),\n",
              " ('Project', 79),\n",
              " ('of', 2019),\n",
              " ('Life', 3),\n",
              " ('at', 545),\n",
              " ('Boys', 3),\n",
              " ('', 3383),\n",
              " ('ebook', 2),\n",
              " ('is', 436),\n",
              " ('use', 21)]"
            ]
          },
          "metadata": {},
          "execution_count": 49
        }
      ]
    },
    {
      "cell_type": "markdown",
      "source": [
        "#### What is this?"
      ],
      "metadata": {
        "id": "bIPho74OwnNm"
      }
    },
    {
      "cell_type": "code",
      "source": [
        "import pyspark\n",
        "from pyspark.sql import SparkSession\n",
        "from sparknlp.base import *\n",
        "from sparknlp.annotator import *\n",
        "import sparknlp\n",
        "from pyspark.sql.functions import col, explode, split\n",
        "import matplotlib.pyplot as plt\n",
        "from scipy.stats import chi2_contingency\n",
        "\n",
        "# Initialize Spark session\n",
        "spark = SparkSession.builder \\\n",
        "    .appName(\"Pronoun Frequency Analysis\") \\\n",
        "    .getOrCreate()\n",
        "\n",
        "# Initialize Spark NLP\n",
        "sparknlp.start()\n",
        "\n",
        "# Load the text of Moby Dick\n",
        "!curl \"https://www.gutenberg.org/cache/epub/2701/pg2701.txt\" -o mobydick.txt\n",
        "mobydick = open('mobydick.txt').read()\n",
        "\n",
        "# Create DataFrame from text\n",
        "mobydick = spark.createDataFrame([[txt]]).toDF(\"txt\")\n",
        "\n",
        "# Define Spark NLP pipeline\n",
        "document_assembler = DocumentAssembler().setInputCol(\"text\").setOutputCol(\"document\")\n",
        "tokenizer = Tokenizer().setInputCols([\"document\"]).setOutputCol(\"token\")\n",
        "pos_tagger = PerceptronModel.pretrained().setInputCols([\"document\", \"token\"]).setOutputCol(\"pos\")\n",
        "\n",
        "pipeline = Pipeline(stages=[document_assembler, tokenizer, pos_tagger])\n",
        "\n",
        "# Process the text\n",
        "model = pipeline.fit(data)\n",
        "result = model.transform(data)\n",
        "\n",
        "# Extract tokens and POS tags\n",
        "tokens_pos = result.select(explode(arrays_zip(result.token.result, result.pos.result)).alias(\"cols\")) \\\n",
        "    .select(col(\"cols\")[\"0\"].alias(\"token\"), col(\"cols\")[\"1\"].alias(\"pos\"))\n",
        "\n",
        "# Pronoun lists\n",
        "feminine_pronouns = ['she', 'her']\n",
        "masculine_pronouns = ['he', 'him']\n",
        "\n",
        "# Count pronoun occurrences by POS tag\n",
        "subject_tags = ['NN', 'NNS', 'NNP', 'NNPS', 'PRP']\n",
        "object_tags = ['PRP$', 'DT']\n",
        "\n",
        "# Filter and count\n",
        "feminine_subject_count = tokens_pos.filter((col(\"token\").isin(feminine_pronouns)) & (col(\"pos\").isin(subject_tags))).count()\n",
        "feminine_object_count = tokens_pos.filter((col(\"token\").isin(feminine_pronouns)) & (col(\"pos\").isin(object_tags))).count()\n",
        "masculine_subject_count = tokens_pos.filter((col(\"token\").isin(masculine_pronouns)) & (col(\"pos\").isin(subject_tags))).count()\n",
        "masculine_object_count = tokens_pos.filter((col(\"token\").isin(masculine_pronouns)) & (col(\"pos\").isin(object_tags))).count()\n",
        "\n",
        "# Prepare data for chi-squared test\n",
        "data = [\n",
        "    [feminine_subject_count, feminine_object_count],\n",
        "    [masculine_subject_count, masculine_object_count]\n",
        "]\n",
        "\n",
        "# Perform chi-squared test\n",
        "chi2, p, dof, ex = chi2_contingency(data)\n",
        "\n",
        "# Visualize the data\n",
        "labels = ['Feminine Subject', 'Feminine Object', 'Masculine Subject', 'Masculine Object']\n",
        "counts = [feminine_subject_count, feminine_object_count, masculine_subject_count, masculine_object_count]\n",
        "\n",
        "plt.figure(figsize=(10, 6))\n",
        "plt.bar(labels, counts, color=['#FF69B4', '#FF69B4', '#1E90FF', '#1E90FF'])\n",
        "plt.xlabel('Pronoun Type and Syntactic Role')\n",
        "plt.ylabel('Frequency')\n",
        "plt.title('Pronoun Frequencies by Syntactic Role')\n",
        "plt.show()\n",
        "\n",
        "# Output results\n",
        "print(\"Chi-Squared Test\")\n",
        "print(f\"Chi2 Statistic: {chi2}\")\n",
        "print(f\"P-value: {p}\")\n"
      ],
      "metadata": {
        "colab": {
          "base_uri": "https://localhost:8080/",
          "height": 287
        },
        "id": "VtPCZQp9IhNM",
        "outputId": "c8c4725c-4fd9-409f-e7b2-dc7f23eba19f"
      },
      "execution_count": 35,
      "outputs": [
        {
          "output_type": "stream",
          "name": "stdout",
          "text": [
            "Warning::Spark Session already created, some configs may not take.\n",
            "  % Total    % Received % Xferd  Average Speed   Time    Time     Time  Current\n",
            "                                 Dload  Upload   Total   Spent    Left  Speed\n",
            "100 1246k  100 1246k    0     0  1365k      0 --:--:-- --:--:-- --:--:-- 1365k\n"
          ]
        },
        {
          "output_type": "error",
          "ename": "NameError",
          "evalue": "name 'txt' is not defined",
          "traceback": [
            "\u001b[0;31m---------------------------------------------------------------------------\u001b[0m",
            "\u001b[0;31mNameError\u001b[0m                                 Traceback (most recent call last)",
            "\u001b[0;32m<ipython-input-35-a1cefe89f437>\u001b[0m in \u001b[0;36m<cell line: 23>\u001b[0;34m()\u001b[0m\n\u001b[1;32m     21\u001b[0m \u001b[0;34m\u001b[0m\u001b[0m\n\u001b[1;32m     22\u001b[0m \u001b[0;31m# Create DataFrame from text\u001b[0m\u001b[0;34m\u001b[0m\u001b[0;34m\u001b[0m\u001b[0m\n\u001b[0;32m---> 23\u001b[0;31m \u001b[0mmobydick\u001b[0m \u001b[0;34m=\u001b[0m \u001b[0mspark\u001b[0m\u001b[0;34m.\u001b[0m\u001b[0mcreateDataFrame\u001b[0m\u001b[0;34m(\u001b[0m\u001b[0;34m[\u001b[0m\u001b[0;34m[\u001b[0m\u001b[0mtxt\u001b[0m\u001b[0;34m]\u001b[0m\u001b[0;34m]\u001b[0m\u001b[0;34m)\u001b[0m\u001b[0;34m.\u001b[0m\u001b[0mtoDF\u001b[0m\u001b[0;34m(\u001b[0m\u001b[0;34m\"txt\"\u001b[0m\u001b[0;34m)\u001b[0m\u001b[0;34m\u001b[0m\u001b[0;34m\u001b[0m\u001b[0m\n\u001b[0m\u001b[1;32m     24\u001b[0m \u001b[0;34m\u001b[0m\u001b[0m\n\u001b[1;32m     25\u001b[0m \u001b[0;31m# Define Spark NLP pipeline\u001b[0m\u001b[0;34m\u001b[0m\u001b[0;34m\u001b[0m\u001b[0m\n",
            "\u001b[0;31mNameError\u001b[0m: name 'txt' is not defined"
          ]
        }
      ]
    },
    {
      "cell_type": "code",
      "source": [],
      "metadata": {
        "id": "niD-K5voIhQR"
      },
      "execution_count": null,
      "outputs": []
    },
    {
      "cell_type": "markdown",
      "source": [
        "### References\n",
        "1. https://tedunderwood.com/2016/12/28/the-gender-balance-of-fiction-1800-2007/"
      ],
      "metadata": {
        "id": "0XIbHhu0x-4D"
      }
    },
    {
      "cell_type": "code",
      "source": [],
      "metadata": {
        "id": "e-TlnNfDIhTt"
      },
      "execution_count": null,
      "outputs": []
    },
    {
      "cell_type": "code",
      "source": [],
      "metadata": {
        "id": "jnNxZTtPEKyM"
      },
      "execution_count": null,
      "outputs": []
    },
    {
      "cell_type": "code",
      "source": [],
      "metadata": {
        "id": "4nLTWe3TEK0u"
      },
      "execution_count": null,
      "outputs": []
    },
    {
      "cell_type": "code",
      "source": [],
      "metadata": {
        "id": "wQcKsLqLEK3O"
      },
      "execution_count": null,
      "outputs": []
    }
  ]
}